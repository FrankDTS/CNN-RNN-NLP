{
 "cells": [
  {
   "cell_type": "code",
   "execution_count": 2258,
   "metadata": {},
   "outputs": [],
   "source": [
    "import pandas as pd\n",
    "import numpy as np\n",
    "import matplotlib.pyplot as plt\n",
    "import seaborn as sns\n",
    "%matplotlib inline"
   ]
  },
  {
   "cell_type": "code",
   "execution_count": 2259,
   "metadata": {},
   "outputs": [],
   "source": [
    "train = pd.read_csv(\"/Users/huangzijing/Desktop/ibotta_train.csv\")\n",
    "test = pd.read_csv('/Users/huangzijing/Desktop/ibotta_test.csv')"
   ]
  },
  {
   "cell_type": "code",
   "execution_count": 2260,
   "metadata": {},
   "outputs": [
    {
     "data": {
      "text/html": [
       "<div>\n",
       "<style scoped>\n",
       "    .dataframe tbody tr th:only-of-type {\n",
       "        vertical-align: middle;\n",
       "    }\n",
       "\n",
       "    .dataframe tbody tr th {\n",
       "        vertical-align: top;\n",
       "    }\n",
       "\n",
       "    .dataframe thead th {\n",
       "        text-align: right;\n",
       "    }\n",
       "</style>\n",
       "<table border=\"1\" class=\"dataframe\">\n",
       "  <thead>\n",
       "    <tr style=\"text-align: right;\">\n",
       "      <th></th>\n",
       "      <th>Id</th>\n",
       "      <th>Name</th>\n",
       "      <th>Brand_name</th>\n",
       "      <th>Category</th>\n",
       "      <th>Cat_code</th>\n",
       "    </tr>\n",
       "  </thead>\n",
       "  <tbody>\n",
       "    <tr>\n",
       "      <th>0</th>\n",
       "      <td>1</td>\n",
       "      <td>4C HomeStyle Parmesan Grated Cheese, 6 oz</td>\n",
       "      <td>4C</td>\n",
       "      <td>Dairy</td>\n",
       "      <td>2.0</td>\n",
       "    </tr>\n",
       "    <tr>\n",
       "      <th>1</th>\n",
       "      <td>2</td>\n",
       "      <td>4C 100% Natural Parmesan Cheese, 6 oz</td>\n",
       "      <td>NaN</td>\n",
       "      <td>Dairy</td>\n",
       "      <td>2.0</td>\n",
       "    </tr>\n",
       "    <tr>\n",
       "      <th>2</th>\n",
       "      <td>3</td>\n",
       "      <td>4C Parmesan &amp; Romano Cheese, Grated</td>\n",
       "      <td>4C</td>\n",
       "      <td>Dairy</td>\n",
       "      <td>2.0</td>\n",
       "    </tr>\n",
       "    <tr>\n",
       "      <th>3</th>\n",
       "      <td>4</td>\n",
       "      <td>Advance Fast Fixin' Country Fried Steaks with ...</td>\n",
       "      <td>Fast Fixin'</td>\n",
       "      <td>Frozen Foods</td>\n",
       "      <td>3.0</td>\n",
       "    </tr>\n",
       "    <tr>\n",
       "      <th>4</th>\n",
       "      <td>5</td>\n",
       "      <td>Borden: Salted 4 Ct Butter</td>\n",
       "      <td>Borden Dairy Company</td>\n",
       "      <td>Dairy</td>\n",
       "      <td>2.0</td>\n",
       "    </tr>\n",
       "    <tr>\n",
       "      <th>...</th>\n",
       "      <td>...</td>\n",
       "      <td>...</td>\n",
       "      <td>...</td>\n",
       "      <td>...</td>\n",
       "      <td>...</td>\n",
       "    </tr>\n",
       "    <tr>\n",
       "      <th>9994</th>\n",
       "      <td>9995</td>\n",
       "      <td>Cheerios Oat Crunch Cinnamon Cereal, Family Si...</td>\n",
       "      <td>Cheerios</td>\n",
       "      <td>NaN</td>\n",
       "      <td>NaN</td>\n",
       "    </tr>\n",
       "    <tr>\n",
       "      <th>9995</th>\n",
       "      <td>9996</td>\n",
       "      <td>Cheerios Very Berry, Family Size - 19.5oz</td>\n",
       "      <td>Cheerios</td>\n",
       "      <td>NaN</td>\n",
       "      <td>NaN</td>\n",
       "    </tr>\n",
       "    <tr>\n",
       "      <th>9996</th>\n",
       "      <td>9997</td>\n",
       "      <td>Honey Nut Cheerios Breakfast Cereal - 10.8oz</td>\n",
       "      <td>Cheerios</td>\n",
       "      <td>NaN</td>\n",
       "      <td>NaN</td>\n",
       "    </tr>\n",
       "    <tr>\n",
       "      <th>9997</th>\n",
       "      <td>9998</td>\n",
       "      <td>Cinnamon Toast Crunch Breakfast Cereal, Family...</td>\n",
       "      <td>General Mills</td>\n",
       "      <td>NaN</td>\n",
       "      <td>NaN</td>\n",
       "    </tr>\n",
       "    <tr>\n",
       "      <th>9998</th>\n",
       "      <td>9999</td>\n",
       "      <td>Cinnamon Toast Crunch Cereal, 12 oz</td>\n",
       "      <td>Cinnamon Toast Crunch</td>\n",
       "      <td>NaN</td>\n",
       "      <td>NaN</td>\n",
       "    </tr>\n",
       "  </tbody>\n",
       "</table>\n",
       "<p>9999 rows × 5 columns</p>\n",
       "</div>"
      ],
      "text/plain": [
       "        Id                                               Name  \\\n",
       "0        1          4C HomeStyle Parmesan Grated Cheese, 6 oz   \n",
       "1        2              4C 100% Natural Parmesan Cheese, 6 oz   \n",
       "2        3                4C Parmesan & Romano Cheese, Grated   \n",
       "3        4  Advance Fast Fixin' Country Fried Steaks with ...   \n",
       "4        5                         Borden: Salted 4 Ct Butter   \n",
       "...    ...                                                ...   \n",
       "9994  9995  Cheerios Oat Crunch Cinnamon Cereal, Family Si...   \n",
       "9995  9996          Cheerios Very Berry, Family Size - 19.5oz   \n",
       "9996  9997       Honey Nut Cheerios Breakfast Cereal - 10.8oz   \n",
       "9997  9998  Cinnamon Toast Crunch Breakfast Cereal, Family...   \n",
       "9998  9999                Cinnamon Toast Crunch Cereal, 12 oz   \n",
       "\n",
       "                 Brand_name      Category  Cat_code  \n",
       "0                        4C         Dairy       2.0  \n",
       "1                       NaN         Dairy       2.0  \n",
       "2                        4C         Dairy       2.0  \n",
       "3               Fast Fixin'  Frozen Foods       3.0  \n",
       "4      Borden Dairy Company         Dairy       2.0  \n",
       "...                     ...           ...       ...  \n",
       "9994               Cheerios           NaN       NaN  \n",
       "9995               Cheerios           NaN       NaN  \n",
       "9996               Cheerios           NaN       NaN  \n",
       "9997          General Mills           NaN       NaN  \n",
       "9998  Cinnamon Toast Crunch           NaN       NaN  \n",
       "\n",
       "[9999 rows x 5 columns]"
      ]
     },
     "execution_count": 2260,
     "metadata": {},
     "output_type": "execute_result"
    }
   ],
   "source": [
    "data = train.append(test)\n",
    "data.reset_index(inplace = True, drop = True)\n",
    "\n",
    "data"
   ]
  },
  {
   "cell_type": "code",
   "execution_count": 2261,
   "metadata": {},
   "outputs": [
    {
     "name": "stdout",
     "output_type": "stream",
     "text": [
      "<class 'pandas.core.frame.DataFrame'>\n",
      "RangeIndex: 9999 entries, 0 to 9998\n",
      "Data columns (total 5 columns):\n",
      " #   Column      Non-Null Count  Dtype  \n",
      "---  ------      --------------  -----  \n",
      " 0   Id          9999 non-null   int64  \n",
      " 1   Name        9999 non-null   object \n",
      " 2   Brand_name  8244 non-null   object \n",
      " 3   Category    8000 non-null   object \n",
      " 4   Cat_code    8000 non-null   float64\n",
      "dtypes: float64(1), int64(1), object(3)\n",
      "memory usage: 390.7+ KB\n"
     ]
    }
   ],
   "source": [
    "data.info()"
   ]
  },
  {
   "cell_type": "code",
   "execution_count": 2262,
   "metadata": {},
   "outputs": [],
   "source": [
    "data['Cat_code'] = data['Cat_code'].astype('category').cat.codes"
   ]
  },
  {
   "cell_type": "code",
   "execution_count": 2263,
   "metadata": {},
   "outputs": [
    {
     "data": {
      "text/html": [
       "<div>\n",
       "<style scoped>\n",
       "    .dataframe tbody tr th:only-of-type {\n",
       "        vertical-align: middle;\n",
       "    }\n",
       "\n",
       "    .dataframe tbody tr th {\n",
       "        vertical-align: top;\n",
       "    }\n",
       "\n",
       "    .dataframe thead th {\n",
       "        text-align: right;\n",
       "    }\n",
       "</style>\n",
       "<table border=\"1\" class=\"dataframe\">\n",
       "  <thead>\n",
       "    <tr style=\"text-align: right;\">\n",
       "      <th></th>\n",
       "      <th>Id</th>\n",
       "      <th>Cat_code</th>\n",
       "    </tr>\n",
       "  </thead>\n",
       "  <tbody>\n",
       "    <tr>\n",
       "      <th>count</th>\n",
       "      <td>9999.000000</td>\n",
       "      <td>9999.000000</td>\n",
       "    </tr>\n",
       "    <tr>\n",
       "      <th>mean</th>\n",
       "      <td>5000.000000</td>\n",
       "      <td>2.219322</td>\n",
       "    </tr>\n",
       "    <tr>\n",
       "      <th>std</th>\n",
       "      <td>2886.607005</td>\n",
       "      <td>2.175764</td>\n",
       "    </tr>\n",
       "    <tr>\n",
       "      <th>min</th>\n",
       "      <td>1.000000</td>\n",
       "      <td>-1.000000</td>\n",
       "    </tr>\n",
       "    <tr>\n",
       "      <th>25%</th>\n",
       "      <td>2500.500000</td>\n",
       "      <td>1.000000</td>\n",
       "    </tr>\n",
       "    <tr>\n",
       "      <th>50%</th>\n",
       "      <td>5000.000000</td>\n",
       "      <td>2.000000</td>\n",
       "    </tr>\n",
       "    <tr>\n",
       "      <th>75%</th>\n",
       "      <td>7499.500000</td>\n",
       "      <td>3.000000</td>\n",
       "    </tr>\n",
       "    <tr>\n",
       "      <th>max</th>\n",
       "      <td>9999.000000</td>\n",
       "      <td>6.000000</td>\n",
       "    </tr>\n",
       "  </tbody>\n",
       "</table>\n",
       "</div>"
      ],
      "text/plain": [
       "                Id     Cat_code\n",
       "count  9999.000000  9999.000000\n",
       "mean   5000.000000     2.219322\n",
       "std    2886.607005     2.175764\n",
       "min       1.000000    -1.000000\n",
       "25%    2500.500000     1.000000\n",
       "50%    5000.000000     2.000000\n",
       "75%    7499.500000     3.000000\n",
       "max    9999.000000     6.000000"
      ]
     },
     "execution_count": 2263,
     "metadata": {},
     "output_type": "execute_result"
    }
   ],
   "source": [
    "data.describe()"
   ]
  },
  {
   "cell_type": "code",
   "execution_count": 2264,
   "metadata": {},
   "outputs": [
    {
     "data": {
      "text/html": [
       "<div>\n",
       "<style scoped>\n",
       "    .dataframe tbody tr th:only-of-type {\n",
       "        vertical-align: middle;\n",
       "    }\n",
       "\n",
       "    .dataframe tbody tr th {\n",
       "        vertical-align: top;\n",
       "    }\n",
       "\n",
       "    .dataframe thead th {\n",
       "        text-align: right;\n",
       "    }\n",
       "</style>\n",
       "<table border=\"1\" class=\"dataframe\">\n",
       "  <thead>\n",
       "    <tr style=\"text-align: right;\">\n",
       "      <th></th>\n",
       "      <th>Id</th>\n",
       "      <th>Name</th>\n",
       "      <th>Brand_name</th>\n",
       "      <th>Category</th>\n",
       "      <th>Cat_code</th>\n",
       "    </tr>\n",
       "  </thead>\n",
       "  <tbody>\n",
       "    <tr>\n",
       "      <th>1</th>\n",
       "      <td>2</td>\n",
       "      <td>4C 100% Natural Parmesan Cheese, 6 oz</td>\n",
       "      <td>NaN</td>\n",
       "      <td>Dairy</td>\n",
       "      <td>2</td>\n",
       "    </tr>\n",
       "    <tr>\n",
       "      <th>6</th>\n",
       "      <td>7</td>\n",
       "      <td>Cache Valley: Mild Cheddar Cheese</td>\n",
       "      <td>NaN</td>\n",
       "      <td>Dairy</td>\n",
       "      <td>2</td>\n",
       "    </tr>\n",
       "    <tr>\n",
       "      <th>9</th>\n",
       "      <td>10</td>\n",
       "      <td>Cache Valley Naturals Colby &amp; Monterey Jack Ch...</td>\n",
       "      <td>NaN</td>\n",
       "      <td>Dairy</td>\n",
       "      <td>2</td>\n",
       "    </tr>\n",
       "    <tr>\n",
       "      <th>11</th>\n",
       "      <td>12</td>\n",
       "      <td>Mrs.Ts Potato, Sour Cream and Chive Pierogies</td>\n",
       "      <td>NaN</td>\n",
       "      <td>Frozen Foods</td>\n",
       "      <td>3</td>\n",
       "    </tr>\n",
       "    <tr>\n",
       "      <th>21</th>\n",
       "      <td>22</td>\n",
       "      <td>Barber Foods: Broccoli &amp; Cheese 6 Ct Stuffed C...</td>\n",
       "      <td>NaN</td>\n",
       "      <td>Frozen Foods</td>\n",
       "      <td>3</td>\n",
       "    </tr>\n",
       "    <tr>\n",
       "      <th>...</th>\n",
       "      <td>...</td>\n",
       "      <td>...</td>\n",
       "      <td>...</td>\n",
       "      <td>...</td>\n",
       "      <td>...</td>\n",
       "    </tr>\n",
       "    <tr>\n",
       "      <th>9971</th>\n",
       "      <td>9972</td>\n",
       "      <td>Blue Bunny Frozen Bunny TRACKS Ice Cream</td>\n",
       "      <td>NaN</td>\n",
       "      <td>NaN</td>\n",
       "      <td>-1</td>\n",
       "    </tr>\n",
       "    <tr>\n",
       "      <th>9974</th>\n",
       "      <td>9975</td>\n",
       "      <td>Bunny Snacks Chocolate Hazelnut</td>\n",
       "      <td>NaN</td>\n",
       "      <td>NaN</td>\n",
       "      <td>-1</td>\n",
       "    </tr>\n",
       "    <tr>\n",
       "      <th>9976</th>\n",
       "      <td>9977</td>\n",
       "      <td>6 pk Bunny Snacks Vanilla Fudge Brownie</td>\n",
       "      <td>NaN</td>\n",
       "      <td>NaN</td>\n",
       "      <td>-1</td>\n",
       "    </tr>\n",
       "    <tr>\n",
       "      <th>9977</th>\n",
       "      <td>9978</td>\n",
       "      <td>Chocolate Chunk Ice Cream</td>\n",
       "      <td>NaN</td>\n",
       "      <td>NaN</td>\n",
       "      <td>-1</td>\n",
       "    </tr>\n",
       "    <tr>\n",
       "      <th>9984</th>\n",
       "      <td>9985</td>\n",
       "      <td>BB CHOCOPOLITAN</td>\n",
       "      <td>NaN</td>\n",
       "      <td>NaN</td>\n",
       "      <td>-1</td>\n",
       "    </tr>\n",
       "  </tbody>\n",
       "</table>\n",
       "<p>1755 rows × 5 columns</p>\n",
       "</div>"
      ],
      "text/plain": [
       "        Id                                               Name Brand_name  \\\n",
       "1        2              4C 100% Natural Parmesan Cheese, 6 oz        NaN   \n",
       "6        7                  Cache Valley: Mild Cheddar Cheese        NaN   \n",
       "9       10  Cache Valley Naturals Colby & Monterey Jack Ch...        NaN   \n",
       "11      12      Mrs.Ts Potato, Sour Cream and Chive Pierogies        NaN   \n",
       "21      22  Barber Foods: Broccoli & Cheese 6 Ct Stuffed C...        NaN   \n",
       "...    ...                                                ...        ...   \n",
       "9971  9972           Blue Bunny Frozen Bunny TRACKS Ice Cream        NaN   \n",
       "9974  9975                    Bunny Snacks Chocolate Hazelnut        NaN   \n",
       "9976  9977            6 pk Bunny Snacks Vanilla Fudge Brownie        NaN   \n",
       "9977  9978                          Chocolate Chunk Ice Cream        NaN   \n",
       "9984  9985                                    BB CHOCOPOLITAN        NaN   \n",
       "\n",
       "          Category  Cat_code  \n",
       "1            Dairy         2  \n",
       "6            Dairy         2  \n",
       "9            Dairy         2  \n",
       "11    Frozen Foods         3  \n",
       "21    Frozen Foods         3  \n",
       "...            ...       ...  \n",
       "9971           NaN        -1  \n",
       "9974           NaN        -1  \n",
       "9976           NaN        -1  \n",
       "9977           NaN        -1  \n",
       "9984           NaN        -1  \n",
       "\n",
       "[1755 rows x 5 columns]"
      ]
     },
     "execution_count": 2264,
     "metadata": {},
     "output_type": "execute_result"
    }
   ],
   "source": [
    "data[data['Brand_name'].isnull()]"
   ]
  },
  {
   "cell_type": "code",
   "execution_count": 2265,
   "metadata": {},
   "outputs": [
    {
     "data": {
      "text/plain": [
       "9063"
      ]
     },
     "execution_count": 2265,
     "metadata": {},
     "output_type": "execute_result"
    }
   ],
   "source": [
    "len(data['Name'].unique())"
   ]
  },
  {
   "cell_type": "code",
   "execution_count": 2266,
   "metadata": {},
   "outputs": [
    {
     "data": {
      "text/plain": [
       "1298"
      ]
     },
     "execution_count": 2266,
     "metadata": {},
     "output_type": "execute_result"
    }
   ],
   "source": [
    "len(data['Brand_name'].unique())"
   ]
  },
  {
   "cell_type": "code",
   "execution_count": 2267,
   "metadata": {},
   "outputs": [
    {
     "data": {
      "text/plain": [
       "0               4C HomeStyle Parmesan Grated Cheese, 6 oz\n",
       "1                   4C 100% Natural Parmesan Cheese, 6 oz\n",
       "2                     4C Parmesan & Romano Cheese, Grated\n",
       "3       Advance Fast Fixin' Country Fried Steaks with ...\n",
       "4                              Borden: Salted 4 Ct Butter\n",
       "                              ...                        \n",
       "9994    Cheerios Oat Crunch Cinnamon Cereal, Family Si...\n",
       "9995            Cheerios Very Berry, Family Size - 19.5oz\n",
       "9996         Honey Nut Cheerios Breakfast Cereal - 10.8oz\n",
       "9997    Cinnamon Toast Crunch Breakfast Cereal, Family...\n",
       "9998                  Cinnamon Toast Crunch Cereal, 12 oz\n",
       "Name: Name, Length: 9999, dtype: object"
      ]
     },
     "execution_count": 2267,
     "metadata": {},
     "output_type": "execute_result"
    }
   ],
   "source": [
    "data['Name']"
   ]
  },
  {
   "cell_type": "code",
   "execution_count": 2268,
   "metadata": {},
   "outputs": [
    {
     "data": {
      "text/plain": [
       "array(['Blue Diamond Whole Natural Almonds',\n",
       "       'Blue Diamond Almonds, Smokehouse',\n",
       "       'Blue Diamond Almonds, Roasted Salted',\n",
       "       'Blue Diamond Honey Roasted Almonds',\n",
       "       'Blue Diamond Almonds, Whole Natural',\n",
       "       'Blue Diamond Bold Wasabi & Soy Sauce Almonds',\n",
       "       'Blue Diamond Bold Habanero BBQ Almonds',\n",
       "       'Blue Diamond Natural 100 Calories Sea Salt Oven Roasted Almonds - 7 PK',\n",
       "       'Blue Diamond, Naturals, Oven Roasted Dark Chocolate Almonds',\n",
       "       'Dole Dates, Pitted', 'Dates',\n",
       "       'Dole: All Natural Blueberries, 12 Oz',\n",
       "       'Essential Everyday Croutons - Cheese & Garlic',\n",
       "       'Mountain View Whole Mushrooms',\n",
       "       'Giorgio: Fresh Sliced Baby Bella Mushrooms', 'Whole Mushrooms',\n",
       "       'Fisher¨∆ Dry Roasted Peanuts',\n",
       "       'Fisher Nut Topping, Mixed Nut Variety with Peanut',\n",
       "       \"Fisher Chef's Naturals Walnut Halves & Pieces\",\n",
       "       'FISHER SLICED ALMONDS STAND-UP BAG',\n",
       "       'McCormick Salad Toppins, Crunchy & Flavorfu', 'Salad Topping',\n",
       "       'McCormick Salad Toppins - Roasted Garlic Caesar',\n",
       "       'Milk Chocolate Covered Raisins',\n",
       "       'Nestle Raisinets Milk Chocolate Covered Raisins',\n",
       "       'Nestle Raisinets Dark Chocolate Covered Raisins',\n",
       "       'Dried Cranberries',\n",
       "       'Ocean Spray Fresh Premium Cranberries 12 Oz Bag',\n",
       "       'Wonderful Pistachios Roasted & Salted',\n",
       "       'Wonderful Roasted and Salted Pistachios 8 oz',\n",
       "       'Wonderful Pistachios, Roasted & Salted',\n",
       "       'Wonderful Pistachios No Salt',\n",
       "       'Fresh Gourmet Croutons, Italian Seasoned',\n",
       "       'Fresh Gourmet Butter & Garlic Premium Croutons, 5 oz',\n",
       "       'Fresh Gourmet Organic Seasoned Premium Croutons - 4.5 oz bag',\n",
       "       'Fresh Gourmet Tortilla Strips, Lightly Salted',\n",
       "       'Fresh Gourmet Tortilla Strips, Santa Fe Style',\n",
       "       'Fresh Gourmet Tortilla Strips, Tri-Color',\n",
       "       'Fresh Gourmet Dried & Sweet Cranberries, 4 oz',\n",
       "       'Fresh Gourmet Cranberries & Glazed Walnuts, 3.5 oz', 'Croutons',\n",
       "       \"Mrs. Cubbison's Caesar Salad Croutons, 5 oz\",\n",
       "       \"Mrs. Cubbison's Classic Seasoned Croutons, Restaurant Style\",\n",
       "       'Sun-Maid Vanilla Yogurt Raisins, 8 oz',\n",
       "       'Sun Maid Tropical Dreams Mango',\n",
       "       'Sun-Maid Vanilla Yogurt Raisins, Mini-Snacks',\n",
       "       'Marzetti Garlic & Butter Flavored Baked Croutons, 5 oz',\n",
       "       'New York Texas Toast Croutons Seasoned, 5-Ounce Bags (Pack of 12)',\n",
       "       'Chives', '50/50 Blend Spring Mix & Baby Spinach',\n",
       "       'FOOD CLUB CROUTONS BTR/GRLC JMBO',\n",
       "       \"King's Mild Kimchi Korean Marinated Cabbage\",\n",
       "       'Seneca Crispy Apple Chips, Original', 'Broccoli Florets',\n",
       "       'Eat Smart Vegetable Medley', 'Eat Smart Snow Peas',\n",
       "       'Corn On The Cob',\n",
       "       'Vlasic Deli Style Pepperoncini Mild Peppers, 12 fl oz',\n",
       "       'Fresh Express Iceberg, Romaine, Carrots & Red Cabbage, 12 oz',\n",
       "       'Angel Hair Coleslaw',\n",
       "       'Fresh Express Premium Romaine with Carrots & Red Cabbage',\n",
       "       'Fresh Express FRESH EXPRESS SHREDS',\n",
       "       'Fresh Express American Salad Blend', 'Fresh Express Spring Mix',\n",
       "       'Fresh Express Lettuce Trio Salad', 'Baby Spinach',\n",
       "       'Fresh Express Double Carrots Salad',\n",
       "       'Fresh Express 50/50 Mixed Greens',\n",
       "       'Fresh Express Salad Kit Caesar Supreme',\n",
       "       'Salad Fresh Express Spring Mix',\n",
       "       'Fresh Express Organics Baby Spinach',\n",
       "       'Fresh Express Organic Baby Romaine', '5-Lettuce Mix',\n",
       "       'Fresh Express Organic Spring Mix', 'Iceberg Garden',\n",
       "       'Spring Mix Blend', 'Salad Blend',\n",
       "       'Fresh Express Leafy Green Romaine', 'Fresh Express 50/50 Mix',\n",
       "       'Fresh Express 3PK ROMAINE HEARTS', 'Organic Sweet Baby Lettuce',\n",
       "       'Fresh Express Organic 50/50 Mix',\n",
       "       'Fresh Express Harvest Peach Kit',\n",
       "       'Munchies Honey Roasted Peanuts, 1.375 oz',\n",
       "       'Munchies Salted Peanuts',\n",
       "       'Planters Deluxe Whole Cashews Honey Roasted',\n",
       "       'Planters Cocktail Peanuts, 16 oz',\n",
       "       'PLANTERS PEANUT DRY ROAST UNSLT',\n",
       "       'Planters Dry Roasted Honey Roasted Peanuts',\n",
       "       'Planters Lightly Salted Dry Roasted Peanuts',\n",
       "       'Planters Honey Roasted Party Size Peanut',\n",
       "       'Planters Cocktail Peanuts Lightly Salted, 16 Oz',\n",
       "       'Nut-rition Antioxidant Mix', 'Walnuts', 'Planters Salted Peanuts',\n",
       "       'Planters Cashew Halves & Pieces',\n",
       "       'Planters Deluxe Whole Cashews, 18.25 oz',\n",
       "       'Planters Deluxe Whole Cashews, 8.5 oz',\n",
       "       'Planters Deluxe Honey Roasted Whole Cashews 8.5 oz Can',\n",
       "       'Planters Cashews Halves & Pieces, Lightly Salted',\n",
       "       'Planters Lightly Salted Mixed Nuts, 10.3 oz',\n",
       "       'Planters Mixed Nuts', 'Planters Lightly Salted Mixed Nuts, 15 oz',\n",
       "       'Pistachio Blend', 'Planters Sunflower Kernels, Dry Roasted',\n",
       "       \"Planters Men's Health Nutrition Mix, 10.25 oz\",\n",
       "       'Oscar Mayer Real Bacon Bits Ready To Serve',\n",
       "       'Oscar Mayer Real Bacon Bits',\n",
       "       'David Original Sunflower Seeds, Roasted & Salted',\n",
       "       'David Sunflower Seeds, Ranch', 'Shelled Walnuts',\n",
       "       'Diamond Shelled Pecans', 'Diamond of California Shelled Walnuts',\n",
       "       'Diamond Of California Chopped Walnuts, 8 oz',\n",
       "       'Diamond Pecan Chips', 'Diamond Of California Jumbo Walnuts',\n",
       "       'Emerald 100 Calorie Packs Walnuts & Almonds, 0.56 oz, 7 ct',\n",
       "       'Emerald Dry Roasted Almonds 100 Calorie Packs',\n",
       "       'Camellia Red Kidney Beans', 'Baby Limas 16 oz', 'Pinto Beans',\n",
       "       'Fresh Express Spinach & Arugula Salad Blend',\n",
       "       'Fresh Express Sweet and Crunchy Salad Mix',\n",
       "       'Florida Giant Whole Strawberries', 'FRESH GREEN ONIONS', 'Pear',\n",
       "       'Fresh Cucumbers', 'Fresh Blueberries', 'Raspberry Raspberry',\n",
       "       'Extra Fancy Artichokes', 'Organic Strawberries - 16 oz',\n",
       "       'Romaine Lettuce', 'AVOCADO HAAS', 'Organic Peeled Baby Carrots',\n",
       "       'MANILLA MANGOS', 'Cauliflower', 'Organic Strawberries',\n",
       "       \"Driscoll's FRESH BLUEBERRIES 4.4-6 OZ\", 'English Cucumber',\n",
       "       'Fresh Mangoes', 'CAULIFLOWER', 'Jet Fresh Pineapples',\n",
       "       'Organic Avocado', 'FOXY ORGAINC ROMAINE', 'Red Grapefruit',\n",
       "       'HONEYDEW MELONS', 'Blackberries', 'Kiwi', 'Ground Beef',\n",
       "       'Organic Girl Baby Spinach ÇƒÎ 5 oz tray',\n",
       "       'Live Gourmet Butter Lettuce', 'LIMES',\n",
       "       'Organicgirl Baby Spring Mix', \"Mann's Sugar Snap Peas Stringless\",\n",
       "       \"Driscoll's Blueberries\", 'Grimmway Farms Shredded Carrots',\n",
       "       'CUCUMBERS', 'Red Swiss Chard', 'Arugula', 'English Cucumbers',\n",
       "       \"Driscoll's Blueberries ÇƒÎ 6 oz tray\", 'Gourds',\n",
       "       'Fresh Tomatoes - Gourmet Medley', 'Broccoli Rabe/Chinese',\n",
       "       'Dulcinea Watermelon', 'Baby Broccoli', 'CLEMENTINE BAGS',\n",
       "       'David Reduced Sodium Sunflower Seeds, Roasted & Salted - 5.25 oz bag',\n",
       "       'Fresh Cut Cantaloupe', 'Grape Tomatoes', 'Lettuce',\n",
       "       'ORGANIC FUJI APPLES', 'Honeydew Melon',\n",
       "       'Honeydew/White Honeydew Melon, Large', 'Pomegranate',\n",
       "       'GRAPE TOMATOES', \"French's French Fried Onions\", 'Lemons',\n",
       "       'Ocean Spray Craisins Original Dried Cranberries',\n",
       "       'Sunsweet California Ones Prunes, Value Pack',\n",
       "       'Private Selection Campari Tomatoes 16oz',\n",
       "       'Earthbound Farm Deep Green Blends Kale', 'Jumbo Pumpkins',\n",
       "       'Fresh Produce Organic Broccoli', 'Chinese Mustard Greens',\n",
       "       'Fresh Gourmet Premium Croutons - Sweet Butter Cornbread',\n",
       "       'Fresh Produce Oranic Mangoes', 'White Coconut',\n",
       "       'Large White Grapefruit', 'Yellow Corn',\n",
       "       'Fresh Gourmet Croutons, Country Ranch', 'RUSSET POTATOES',\n",
       "       'Enoki Mushrooms', 'White Corn', 'Lemons Organically Grown Large',\n",
       "       'Yellow Onions', 'Russet Potatoes', 'CABBAGE', 'Jumbo Muchrooms',\n",
       "       'BANANA SQUASH', 'Yam Potatoes', 'Large Pippin Apples',\n",
       "       'Macintosh Apples', 'Seedless Grapes', 'Red Plums',\n",
       "       'GRANNY SMITH APPLES', 'Tropical Plums', 'Serrano Chiles',\n",
       "       'Golden Raspberries', 'Red Seedless Grapes', 'FRESH MUSHROOMS',\n",
       "       'Jimica', 'PINK HONEYDEW MELONS', 'Maui Onions', 'RADICCHIO',\n",
       "       'Pre-packaged Apples', 'Spring Onions', 'Loose Beets',\n",
       "       'SALAD/BUTTER LETTUCE MIX', 'Morel Mushrooms', 'BABY BANANAS',\n",
       "       'BABY FINGERLING POTATOES', 'SUNDRIED TOMATOES', 'Avocado',\n",
       "       'GLAZED WALNUTS', 'Nectarines White Flesh', 'DOUGHNUT PEACHES',\n",
       "       'Orange Bell Pepper', 'Fresh Produce Honey Crisp Apples',\n",
       "       'ORANGES/LG NAVEL', 'Red Delicious Apples',\n",
       "       'APPLES/GOLDEN DELICIOUS', 'Fresh Produce Nectarine',\n",
       "       'PLUMS/BLACK', 'PEACHES/LARGE', 'grapes/black', 'Yams',\n",
       "       'Asparagus', 'Red Bell Peppers', 'Apples Braeburn',\n",
       "       'Cortland Apples', 'GALA APPLES', 'Rome Apples', 'Plantain',\n",
       "       'PLU 4258 - CHERRIES, Golden/Rainier/White', 'Fresh Nectarines',\n",
       "       'BARTLETT PEARS', 'BOSC PEARS', 'RED D`ANJOU PEARS', 'Tangerine',\n",
       "       'Brussel Sprouts', 'White Onions', 'Acorn Squash',\n",
       "       'Butternut Squash', 'ORGANIC WHITE PEACHES',\n",
       "       'PLU 94416 - ORGANIC PEARS, Anjou, Large', 'Organic Green Beans',\n",
       "       'Peeled Apple Bites',\n",
       "       'Fresh Express Veggie Medleys - Veggie Spring Mix Salad',\n",
       "       'Fisher Chopped Walnuts',\n",
       "       'Planters Winter Spiced Mix Canister, 18.75 Ounce',\n",
       "       'Oscar Mayer Selects Real Uncured Bacon Bits', 'Peanuts',\n",
       "       'Planters Mixed Nuts, 27 oz', 'Raisins',\n",
       "       'Sun-Maid Organic Raisins Mini Snacks',\n",
       "       'Planters NUT-rition Wholesome Nut Mix, 1.25 oz, 6 count',\n",
       "       'Blue Diamond Almonds, Toasted Coconut',\n",
       "       'Hormel Real Crumbled Bacon Pizza Ready',\n",
       "       'Blue Diamond Lightly Salted Almonds',\n",
       "       'New York Texas Toast Caesar Croutons, 5 oz',\n",
       "       'New York Texas Toast Chili Lime Flavored Tortilla Strips, 4.5 oz',\n",
       "       \"Bob's Red Mill Golden Flaxseed, Natural Raw\",\n",
       "       'Meijer Sliced Almonds',\n",
       "       'Reese Whole Grain Croutons, Garlic & Cheese ÇƒÎ 5 oz bag',\n",
       "       'Tahini', 'Hidden Valley Salad Crispins, Italian Parmesan',\n",
       "       'Bacon Pieces', 'Food Club Bacon Bits',\n",
       "       'Kroger Private Selection Real Bacon Bits',\n",
       "       'Kroger Croutons Homestyle, Ceasar',\n",
       "       'Safeway Croutons Restaurant Style, Herb Seasoned',\n",
       "       'Essential Everyday Restaurant Style Seasoned Croutons',\n",
       "       'Chopped Romaine Salad', 'Kroger Leaf Spinach 10oz',\n",
       "       'Goya Bean Soup Mix', 'Goya Plantain Chips, Platanitos',\n",
       "       'La Preferida Chick Peas', 'Verde Valle: Lenteja Lentils',\n",
       "       'Goya Pinto Beans', 'Goya Lentils', 'Cocktail Peanuts',\n",
       "       'SUNSWEET SMART DRY PLUM PIT',\n",
       "       'Wonderful Roasted & Salted Pistachios',\n",
       "       'Aurora Natural Banana Chips', 'MARIANI MANGO PHILIPPINE',\n",
       "       'Dakota Style Sunflower Seeds',\n",
       "       'Ocean Spray Craisins Sweetened Dried Cranberries Blueberry Flavored',\n",
       "       'Dakota Style Kernels, Roasted and Salted',\n",
       "       'Aurora Products Inc. Sunflower Seeds - Roasted - Salted',\n",
       "       'Bigs Sunflower Seeds, Salted & Roasted Original, Re-Sealable Big Bag!',\n",
       "       'Bigs Sunflower Seeds, Vlasic Dill Pickle Flavor, Re-Sealable Big Bag',\n",
       "       \"Organic Made in Nature Dried & Unsulfured Nature's Power Pack\",\n",
       "       'Peeled Snacks, Apple-2-The-Core',\n",
       "       'Wonderful Sweet Chili Pistachios',\n",
       "       'Sunflower Kernels, Roasted and Salted',\n",
       "       'Kroger Lightly Salted Dry Roasted Peanuts',\n",
       "       'Safeway The Snack Artist Dry Roasted Unsalted Peanuts',\n",
       "       'Kroger Peanuts, Salted ÇƒÎ 12 oz', 'Organic Basil',\n",
       "       'Earthbound Farm Organic Mini Peeled Carrots', 'Bhuja Nut Mix',\n",
       "       'La Choy Rice Noodles', 'Salad Blends Spring Mix',\n",
       "       'Ready Pac Bistro Dinner Solutions Salad Southwestern',\n",
       "       'Ready Pac Foods Santa Fe Style Salad',\n",
       "       'Express Bake Sweet PotatOH!', 'Bolthouse Farms Carrots, Baby-Cut',\n",
       "       'Express Bake PotatOH! Russet Potato', 'NewStar Spinach',\n",
       "       'Michigan Apples', 'Glory Foods Collard Greens',\n",
       "       'Glory brand Mustard Greens Bag', 'Organic Red Bell Pepper',\n",
       "       'Organic Green Pepper Pero', 'Mini Cucumbers',\n",
       "       'EARTH SOURCE LIMES PERSIAN', 'Del Monte Pineapple',\n",
       "       'Archer Farms Sweet Potatoes Cubes 16 oz',\n",
       "       'Monterey Gourmet Baby Bella Mushrooms', 'Dole Organic Bananas',\n",
       "       'Cesar Salad', 'Caesar Salad Kit', 'Kmart Red Onions, 32 oz',\n",
       "       'Apple Country Apples', 'Organic Baby Spinach',\n",
       "       'Dole Hearts of Romaine', 'Oranges',\n",
       "       'Ready Pac Foods Bistro Bistro Turkey and Bacon Cobb Salad',\n",
       "       'Earthbound Farms', 'Ready Pac Shredded Carrots',\n",
       "       'Earthbound Farm Organic Baby Spinach Salad',\n",
       "       'Dole Romaine, Leafy', 'Dole Very Veggie Salad Blend',\n",
       "       'BLUE DENIM STEAMABLE POTATO RED', 'Mushrooms Whole',\n",
       "       'Bolthouse Farms Sweet Petites Carrots',\n",
       "       'Simply Spuds Steamables Golden Potatoes',\n",
       "       'Blue Denim Bakeables Potato Russet, Pre-washed',\n",
       "       'Dole Salad Kit Ultimate Caesar', 'Blue Denim Potatoes',\n",
       "       'Kale Greens', 'Idaho: Potatoes', 'Organic Vidalia Sweet Onions',\n",
       "       'Christopher Ranch California Heirloom Monviso Peeled Garlic',\n",
       "       \"Cut 'N Clean Greens Kale Greens\", 'Dole Baby Spinach',\n",
       "       'Green Giant Mushrooms Fresh Sliced',\n",
       "       'Dole Greener Selection Salad',\n",
       "       'Organicgirl Greens - 50/50 Spring Mix with Baby Spinach',\n",
       "       'Tangelos', 'Broccoli Wokly', 'Dole Classic Iceburg Lettuce',\n",
       "       'Michigan Red Delicious Apples', 'Dole Shredded Lettuce',\n",
       "       'Carrots', 'Petite Carrots', 'Yukon Gold Potatoes',\n",
       "       'Signature Farms Carrot Chips', 'Apples',\n",
       "       'Safeway Farms. Carrots. 2 lb bag',\n",
       "       'Safeway Farms Mushrooms Sliced White', 'Chf Salad Cafe Bowl',\n",
       "       'Ragin Cajun Red Beans, Cajun Style ÇƒÎ 16 oz bag',\n",
       "       'ShopRite Baby Bella Mushrooms', 'Yellow Onions, Medium',\n",
       "       'China Doll Lima Beans, Large, Dried',\n",
       "       'Meijer Select Green Peas Split', 'Flax Seed', 'Badia Sesame Seed',\n",
       "       'Margaret Holmes Peanut Patch Peanuts, Boiled, Green, Cajun',\n",
       "       \"French's Cheddar French Fried Onions\",\n",
       "       'Planters Deluxe Pistachio Mix, 14.5 oz',\n",
       "       'Earthbound Farm Organic Mini Carrots, Peeled',\n",
       "       'Earthbound Farm Organic Carrots',\n",
       "       'Earthbound Farm Organic Petite Mini Peeled Carrots',\n",
       "       \"Driscoll's Strawberries\", '32oz Certified Organic Strawberries',\n",
       "       'Kale Salad Kit', 'Planters Almond Chocolate Crunch',\n",
       "       'Earthbound Farms Organic Mini Peeled Carrots',\n",
       "       'Sun-Maid Dark Chocolate Yogurt Raisins, 1 oz',\n",
       "       'Hormel Real Bacon Bits, Pan Fried', 'Wonderful Halos 5lb Bag',\n",
       "       'Wonderful Halos Box',\n",
       "       'AtkinsÇ—¢ EndulgeÇ—¢ Chocolate Covered Almonds',\n",
       "       'Ocean Spray Craisins Dried Cranberries, Milk Chocolate',\n",
       "       'Planters Chipotle Peanuts, 6 oz',\n",
       "       'Juicing Greens Baby Kale and Spinach',\n",
       "       'Wonderful Lightly Salted Pistachios',\n",
       "       'Wonderful Roasted & Salted Pistachios, Shelled',\n",
       "       'Pistachios Roasted & Salted',\n",
       "       'Wonderful Salt & Pepper Pistachios 7 oz',\n",
       "       \"Mrs. Cubbison's Southwest Flavor Tortila Strips\",\n",
       "       'Fresh Express Chopped Salad', 'Honey Roasted Vanilla Almonds',\n",
       "       'Fresh Express¨∆ Bacon Caesar Salad and Toppings Kit',\n",
       "       'Sun-maid Chocolate Covered Raisins',\n",
       "       'Marzetti Simply Dressed Garlic & Butter Super Grains Baked Croutons',\n",
       "       'Fresh Express Chopped Salad Kit - Asian', 'Watermelon',\n",
       "       'Wonderful Roasted & Salted Pistachios Gift Bag', 'Strawberries',\n",
       "       'Lance Salted Peanuts', 'Broccoli Florets Bags',\n",
       "       'Kroger Cut Leaf Spinach', 'Organic Cut Leaf Spinach',\n",
       "       'Watts Brothers Farms Organic Mixed Vegetables',\n",
       "       'Alexia Organic Supersweet Corn',\n",
       "       'Bolthouse Farms Organics Carrot Chips, 12 oz',\n",
       "       'Organic Cal-Organic Match Stick Cut Carrots',\n",
       "       'Green Giant Fresh Baby Cut Carrots',\n",
       "       'Dole Chopped Bacon & Blue Salad Kit',\n",
       "       'Dole All Natural Chopped Salad Kit BBQ Ranch',\n",
       "       'Dole Chopped Salad Kit', 'Dole Endless Summer Salad Kit',\n",
       "       'Dole Sweet Baby Lettuces', \"Farmer's Market Chopped Romaine\",\n",
       "       \"Farmer's Market Garden Salad\", \"Farmer's Market Shred Lettuce\",\n",
       "       \"Farmer's Market Shredded Lettuce\",\n",
       "       'Farmers Market Chopped Barbaque Ranch Kit',\n",
       "       'Ready Pac Garden Salad',\n",
       "       'Eat Smart Wild Greens & Quinoa Vegetable Salad Kit',\n",
       "       'Marketside Classic Iceberg Salad',\n",
       "       'Premium Salad Butter Lettuce Blend',\n",
       "       'Marketside Classic Iceberg Salad, 24 oz',\n",
       "       'Earthbound Farm Organic Spring Mix',\n",
       "       'Marketside Caesar Salad Kit',\n",
       "       'Taylor Farms Organic Baby Spring Mix',\n",
       "       'Marketside Tri-Color Cole Slaw',\n",
       "       'Marketside: Fresh Spinach, 10 Oz',\n",
       "       'Marketside Angel Hair Cole Slaw, 10 oz',\n",
       "       'Baby Spring Mix  | 16.0000  oz',\n",
       "       'Marketside Southwest Salad, 17.75 oz',\n",
       "       'Taylor Farms Organic Superfood Power Greens',\n",
       "       'Taylor Farms Garden Salad, classic crisp iceberg, carrots, and red cabbage  net weight 32 oz',\n",
       "       'Fresh Selections House Salad with Bacon',\n",
       "       'Marketside Romaine & Spring Mix',\n",
       "       'Marketside Shredded Iceberg Lettuce, 8 oz',\n",
       "       'Organic Marketside Baby Spinach Salad',\n",
       "       'Dole 50/50 Spring Mix & Baby Spinach Salad',\n",
       "       'Marketside Crispy Greens', 'Marketside Italian Chopped Salad',\n",
       "       'Baby Spinach - Organic Earthbound Farm',\n",
       "       'Central Market Organics Spring Mix Salad',\n",
       "       'Marketside Hearts of Romaine, 10 oz',\n",
       "       'Taylor Farms Asian Chopped Salad with Dressing',\n",
       "       'Taylor Farms Organic Baby Spinach',\n",
       "       'Wegmans Chopped Salad Kit Special Blends, BBQ Ranch',\n",
       "       'Marketside Organic Baby Spinach', 'HEB Garden Salad',\n",
       "       'Publix American Salad Blend', 'Popeye Fresh Select Spinach',\n",
       "       'Garden Life Green Leaf Lettuce', 'Spring Mix',\n",
       "       'Kroger Popeye Tender Spinach',\n",
       "       'Garden Life Triple Washed Romaine Lettuce',\n",
       "       'Archer Farms Fuji Apples',\n",
       "       'Archer Farms Red Delicious Apples 3 lbs', 'Apples, Gala',\n",
       "       'Apples, Empire', 'Organic Gala Apples',\n",
       "       'Archer Farms Gala Apples', 'Golden Delicious Apples Bagged',\n",
       "       'Rose Apples', 'Honeycrisp Apple', 'Apple Country Gala Apples',\n",
       "       'Organic Gala Apples 3 lb', 'Fuji Apple', 'Granny Smith Apples',\n",
       "       'Gala Apples 3 lbs', 'The Farmers Market Red Delicious Apples',\n",
       "       'Gala Apples', 'Apples Gala', 'Jazz Apples, 3lb bag',\n",
       "       'Granny Smith Apples 3 lb bag', 'Giant Eagle Granny Smith Apples',\n",
       "       'Kroger Granny Smith Apples', 'Washington Extra Fancy Gala Apples',\n",
       "       'HEB Classic Romaine',\n",
       "       'Wegmans Food You Feel Good About Fresh Triple Washed Romaine Salad',\n",
       "       'Wegmans Organic Super Greens', 'NEW STAR COOK/SPINACH+BABY KALE',\n",
       "       'Emerald Dry Roasted Almonds',\n",
       "       'Emerald Whole Cashews, Roasted & Salted',\n",
       "       'Emerald Natural Almonds',\n",
       "       'Emerald The Original Salty Sweet Mixed Nuts',\n",
       "       \"Olivia's Baby Spinch\", 'Fresh Selections Baby Spinach',\n",
       "       'Marketside Asian Chopped Salad', 'Weis Quality 50/50 Mix',\n",
       "       'BBQ Ranch Chopped Salad', 'Wegmans Caesar Salad Kit',\n",
       "       'Olivias Spring Mix', 'Salad', 'Marketside Baby Spinach',\n",
       "       'Simply Truth Organic Baby Arugula',\n",
       "       \"Giant Eagle Nature's Basket Organic Baby Spring Mix\",\n",
       "       'Italian Salad Blend', 'Shredded Carrots',\n",
       "       \"Mott's Sliced Red Apples, 6 - 2oz Bags 12.00 oz\",\n",
       "       'Wells Farms Granny Smith', 'Pink Lady Apples', 'Envy Apples',\n",
       "       'Fuji Apples', 'Weis Quality Apples Red Delicious Apples',\n",
       "       'Stemilt Premium Fuji Washington Apples',\n",
       "       'Food Lion Granny Smith Apples', 'Oneonta Starr Ranch Gala Apples',\n",
       "       'Red Delicious Apples 3 lbs', 'Weis Gala Apples',\n",
       "       'Organic Mountain Fuji Apples', 'Borton Fruit Honeycrisp Apples',\n",
       "       \"Roundy's Fresh Red Delicious Apples\",\n",
       "       'Weis Quality Apples Red Delicious',\n",
       "       'Blue Diamond Almonds Bold Sriracha',\n",
       "       \"Olivia's Organics 50/50 Blend\",\n",
       "       'Daisy Girl Organics Pink Lady Apples',\n",
       "       'Marketside Butter Lettuce', 'Michigan Apples Empire',\n",
       "       'Earthbound Farm Organic Deep Green Blends Power',\n",
       "       'Vegetable Medley', 'Bananas', 'Green Bananas', 'Red Banana',\n",
       "       'Yellow Banana', 'Avocados Green', 'Marketside Bistro Blend Salad',\n",
       "       'Salad Kit', 'Lady Alice Apples', 'Boston / Butter Red Lettuce',\n",
       "       'Iceberg Lettuce', 'Red Romaine Lettuce',\n",
       "       'Orange Bell, Field Grown Peppers',\n",
       "       'Bell, greenhouse green, small', 'Red Bell Pepper', 'Tomatoes',\n",
       "       'Tomatoes - Large', 'Roma Tomatoes on the Vine',\n",
       "       'Small Red Regular Tomatoes', 'Teardrop Red Pear',\n",
       "       'Teardrop Yellow Tomatoes', 'Vine Ripe Red Tomatoes',\n",
       "       'Cherry Tomatoes', 'Fresh Tomatoes - Vintage Ripe',\n",
       "       'Fresh Produce Sweet Onions', 'Onion', 'Vidalia Onion', 'Onions',\n",
       "       'Iceberg Lettuce, each',\n",
       "       'Olive Garden Italian Kitchen Garlic & Romano Seasoned Croutons',\n",
       "       'Bacon Sprinkles', 'Key Limes', 'Lemons, large',\n",
       "       'Lemons, seedless', 'Tropicana Fresh Limes',\n",
       "       'Green Giant Iceberg Lettuce',\n",
       "       'Produce Yellow Campari Tomato - Canada', 'Vidalia Onions',\n",
       "       'Sugarbaby Melon', 'Seeded Watermelon', 'Small Cantaloupe',\n",
       "       'White Potatoes', 'Red Creamer Potatoes', 'Blue / Purple Potatoes',\n",
       "       'Sweet Potatoes', 'Fresh Bag Russet Potatoes',\n",
       "       'Small Valencia Oranges', 'Elephant garlic', 'Garlic',\n",
       "       'Ready Pac Garden Salad 12 oz', 'Peaches', 'Peaches White Flesh',\n",
       "       'Large Yellow Flesh East Peaches', 'Small Yellow Flesh Peaches',\n",
       "       'Purple Plums', 'PLU 4025 - PEARS, Anjou, Small',\n",
       "       'Asian / Nashi Pears', 'Belle du Jumet Pears', 'Forelle Pear',\n",
       "       'Fresh Red Sensation Pears', 'Black Apricots', 'Small Apricots',\n",
       "       'New York Brand Texas Toast Zesty Italian Croutons',\n",
       "       'Planters Almonds, Cashews, Pecan Mix, 15.25 Ounce',\n",
       "       'SUNSET¨∆ Campari¨∆ Tomatoes', 'California Cherries', 'Corn',\n",
       "       'Indian Corn', 'Mango', 'Grapefruit Pummelo - Red',\n",
       "       'Ruby/Red/Pink Grapefruit', 'Grapefruit Red/Pink - Large',\n",
       "       'Deep Red Grapefruit', 'Grapefruit',\n",
       "       'Grapefruit Deep Red - Extra Large', 'Pineapple', 'Zucchini',\n",
       "       'Gold Honeydew', 'Golden Honeydew Melon',\n",
       "       'Simple Truth Organic Baby Romaine', 'Kale', 'Celery Sticks',\n",
       "       'Celery Hearts', 'Chayote/Choko Squash', 'Winter Squash',\n",
       "       'Lightly Salted Pumpkin Seeds', 'Dole Shredded Lettuce 16.00 oz',\n",
       "       'Tomato Grape', 'Tomatoes-Roma', 'Organic Green Onions',\n",
       "       'Onions Green', 'Onions Yellow', 'Onions Yellow Vexar',\n",
       "       'Lettuce-Shredded', 'Organic Limes', 'Peppers-Jalapev±o',\n",
       "       'Potato Red B Size', 'Organic Kale', 'Celery', 'Squash Medley',\n",
       "       'Brussels Sprouts, Cleaned and Cut', 'Cucumbers Armenian',\n",
       "       'Cucumbers', 'Earthbound Farm Baby Spinach Blend',\n",
       "       'Organic ROYAL GALA APPLES', 'Blueberries',\n",
       "       'Food Lion Golden Delicious Bagged Apples', 'Raspberries',\n",
       "       'Blueberry Berries', 'Organic Blueberries',\n",
       "       'Yellow Flesh, Tree Ripened, Ready-to-eat Nectarines',\n",
       "       'Carrot Bunch', 'Carrots-Petite Micro', 'Broccoli Florettes',\n",
       "       'Broccoli Crowns', 'Fresh Romaine', 'Cremini Mushrooms',\n",
       "       'Fresh Shiitake Mushrooms', 'Mushroom Sliced Bella', 'Beets',\n",
       "       \"Fisher Chef's Naturals Natural Sliced Almonds\", 'Red Cabbage',\n",
       "       'Eggplant', 'APPLES Golden Delicious', 'APPLES Granny Smith',\n",
       "       'Fresh Produce Crispin/Mutsu Apples', 'Apples Honeycrisp',\n",
       "       'Green Beans', 'Sugar Snap Peas',\n",
       "       'Marketside Broccoli Florets, 12 oz', 'Fresh Watermelon Spears',\n",
       "       'Pre-cut watermelon', 'Pre-cut Watermelon', 'Seedless Watermelon',\n",
       "       'Winn Dixie Watermelon Chunks', 'Chicken Boneless Breast Tenders',\n",
       "       'Watermelon 1/4', 'Seedless Watermelon Wedge',\n",
       "       'Meijer Seedless Watermelon Chunks', 'Watermelon Chunks',\n",
       "       'Watermelon Cup',\n",
       "       'Wegmans Fresh Cut Fruit Watermelon Cup - Wegmans',\n",
       "       'Watermelon Quarters', 'Cut Watermelon', 'Pre Cut Watermelon',\n",
       "       'Watermelon Chunk from Giant', 'GREEN GIANT  ROMAINE HEARTS',\n",
       "       'Watermelon Slices', 'Shoprite Pre-Cut Watermelon',\n",
       "       'Baby Kale/Spinach Salads-Prepackaged',\n",
       "       'Limited Edition Strawberries 1 lb',\n",
       "       'Well Pict Strawberries, 1 lb', 'Ginger Root', 'Red Pepper',\n",
       "       'BellaFina Sweet Baby Bell Peppers',\n",
       "       'Monterey Clean N Ready White Whole Mushrooms', 'Red Radishes',\n",
       "       'Fresh Whole Mushrooms', 'Weis Quality Carrots - Baby',\n",
       "       'Dole Idaho Potato Microwave Ready', 'Fresh - Blueberries',\n",
       "       'Well-Pict Strawberries', 'Fresh Strawberries', 'Shallots',\n",
       "       'Sunbelle - Blueberries', 'Organic Avacado',\n",
       "       'Green Giant Fresh Sugar Snap Pea', 'Fresh Green Onions',\n",
       "       'Marketside Green Beans,', 'Potatoes, Baking, Premium Russet',\n",
       "       'My Essentials Natural Minced Garlic',\n",
       "       \"Driscoll's Whole Strawberries\", 'Lil Snapper Pears',\n",
       "       'Parsley Curly',\n",
       "       'Marketside Organic Baby Half & Half Salad Mix, 5.5 oz',\n",
       "       'Red Potatoes', 'Yellow Gold Potaotes',\n",
       "       \"Chef Buddy's Diced Cabbage & Carrots Southern Slaw\",\n",
       "       'Whole Potatoes', 'Avocados', 'Sunset Produce Grape Tomatoes',\n",
       "       'Cauliflower Florets', 'Handy Candy Grape Tomatoes',\n",
       "       'Marketside Sugar Snap Peas, 16 oz', 'Raspberries Red',\n",
       "       'Cantaloupe Spears', 'Sweet Campari Tomatoes',\n",
       "       'Organic Yellow Onions', 'Minced Garlic',\n",
       "       'Marketside, Carrots Baby Organic', 'Green Giant Snow Peas',\n",
       "       'Cara Cara Orange', 'NatureSweet Tomatoes, Cherubs',\n",
       "       \"Olivia's Organics 50/50\", 'Organic Celery Hearts',\n",
       "       'Mariani Sweetened Dried Cranberries - 5 oz pouch',\n",
       "       'Produce Grape Tomato Clamshell 16.00 oz', 'Salad Tomatoes',\n",
       "       'Hydro Cucumbers', 'Idaho Potatoes', 'Bell Peppers',\n",
       "       'Express Bake Baked Potatoes', 'Fresh Baby Bok Choy',\n",
       "       'Organic Red Potatoes', 'Portabella Mushrooms Caps',\n",
       "       'Baby Carrots',\n",
       "       'Medallion Roasted & Salted Cashew Halves & Pieces Nuts',\n",
       "       'Tomatoes San Marzano 10oz', 'Sunset Campari Tomatoes 1.00 lb',\n",
       "       'B & W Arugula', 'Broccoli & Cauliflower',\n",
       "       'Shenandoah Growers Organic Mint',\n",
       "       'Sunset Produce Golden Ripe Pineapple', 'Romaine Hearts',\n",
       "       'Sunkist Cuties Clementines', 'Fresh Organic Strawberries',\n",
       "       'Crunch Pak Organic Apple Slices', 'Organic Celery',\n",
       "       'Apple Slices with Grapes',\n",
       "       'Green Giant Fresh Klondike Gourmet Petite Potatoes',\n",
       "       'Organic Yellow Potatoes', 'Organic Russet Potatoes',\n",
       "       'Salad Pizazz! Strawberry Cranberry Honey Nut Salad Toppings',\n",
       "       'Green Giant Fresh Idaho Potatoes Prime Size', 'Red Peppers',\n",
       "       'My Essentials Organic Baby Spinach', 'Sweet Potato',\n",
       "       'Produce - Parsnips', 'Barlett Pears', 'Bean Sprouts',\n",
       "       'Green Giant Rainbow Salad',\n",
       "       'Bell Peppers Sweet Hot House 3 Count Bag', 'Cheese Crisps',\n",
       "       'Organic Cantaloupes',\n",
       "       'Shenandoah Growers Italian Parsley Living 1.00 ct',\n",
       "       'Fresh Spaghetti Squash', 'Great Value Black Beans',\n",
       "       \"Driscoll's Organic Blueberries\", 'Sunkist 3LB MINNEOLAS',\n",
       "       'Sun Belle Raspberries 12oz', \"Stuckey's Honey Roasted Pecans\",\n",
       "       'Marketside Garlic', \"Mann's Organic Broccoli Wokly\",\n",
       "       'Apples - Large Red Delicious', 'Sweet Baby Bell Peppers',\n",
       "       'Wish Farms Blueberries', 'Crunch Pak Sweet Peeled Apple Slices',\n",
       "       'Del Monte Fresh Produce Cantaloupe', 'Black Eyed Peas',\n",
       "       'Champs Mushrooms Sliced Crimini',\n",
       "       'Fresh Gourmet Sliced Almonds, Oven Roasted, 3.5 oz',\n",
       "       'Mother Earth Organic Mushrooms', 'Simple Beginnings Spring Mix',\n",
       "       'Green Giant Shaved Brussels Sprouts',\n",
       "       'PLU 4080 - ASPARAGUS, Green, Small', 'Marketside Bananas',\n",
       "       'Meijer Raisins', 'Green Giant Fresh Premium Brussels Sprouts',\n",
       "       'Crimini Mushrooms', 'Giant Eagle Sliced Carrots',\n",
       "       'Fresh Brussels Sprouts', 'Broccoli',\n",
       "       'Blue Diamond Smokehouse Almonds', 'Roma Tomatoes',\n",
       "       'Simple Beginnings, Baby Arugula',\n",
       "       'Kroger Fresh Selection Tri Color Peppers', 'Meijer Blueberries',\n",
       "       'Marketside Organic Limes 1 lb Bag',\n",
       "       'Green Giant Fresh Cauliflower Florettes',\n",
       "       \"Olivia's Organics Mixed Power Greens, 5 oz\",\n",
       "       'Green Giant Fresh White Onion', 'Oneonta Apples',\n",
       "       'Organic Honey Crisp Apples', 'Harvest Club Fuji Apples',\n",
       "       'Snap Dragon Apples', 'Empire Apples', 'Cubed Watermelon',\n",
       "       'Weis McIntosh Apples', 'NewStar, Baby Spinach',\n",
       "       'Safeway Romaine Hearts', 'Tomato Medley Pack',\n",
       "       'Organic Granny Smith Apple', 'Archer Farms Raw Almonds, Unsalted',\n",
       "       'Emerald 100 Calorie Pack Vanilla Roast Almonds',\n",
       "       'FUJI APPLE BY EACH', 'Market Pantry Dry Roasted Peanuts',\n",
       "       'Save on Archer Farms¨∆ Salted Roasted Jumbo Cashews',\n",
       "       'Market Pantry Dry Roasted Salted Peanuts',\n",
       "       'Sea Salt Roasted Jumbo Cashews 3oz - Archer FarmsÇ—¢',\n",
       "       'Bolthouse Farms Carrot Chips', 'Hot House Seedless Cucumber',\n",
       "       'Pecan Halves', 'Market Pantry California Raisins',\n",
       "       'Freeze Dried Peach Slices  Simply BalancedÇ—¢', 'Apple',\n",
       "       'Sweet Deal Navel Oranges', 'Red Blossom Strawberries, 1 lb',\n",
       "       'Navel Oranges, 4 lb bag', 'Any Brand Select Fruit (FAKE UPC)',\n",
       "       'Dole Fresh Blueberries', 'Naturipe Strawberries 16 oz',\n",
       "       'Raw-Natural Jumbo Peanuts, Hampton Farms', 'Chicago Cubs Peanuts',\n",
       "       \"Peanuts- Tampa D'Rays\", 'Nut Harvest Mixed Nuts, Deluxe',\n",
       "       'Dove Whole Cranberries Dipped in Creamy Dark Chocolate Dried Fruit'],\n",
       "      dtype=object)"
      ]
     },
     "execution_count": 2268,
     "metadata": {},
     "output_type": "execute_result"
    }
   ],
   "source": [
    "data[data['Cat_code'] == 6]['Name'].unique()"
   ]
  },
  {
   "cell_type": "code",
   "execution_count": null,
   "metadata": {},
   "outputs": [],
   "source": []
  },
  {
   "cell_type": "code",
   "execution_count": null,
   "metadata": {},
   "outputs": [],
   "source": []
  },
  {
   "cell_type": "code",
   "execution_count": null,
   "metadata": {},
   "outputs": [],
   "source": []
  },
  {
   "cell_type": "markdown",
   "metadata": {},
   "source": [
    "# NLP"
   ]
  },
  {
   "cell_type": "code",
   "execution_count": 2269,
   "metadata": {},
   "outputs": [
    {
     "data": {
      "text/html": [
       "<div>\n",
       "<style scoped>\n",
       "    .dataframe tbody tr th:only-of-type {\n",
       "        vertical-align: middle;\n",
       "    }\n",
       "\n",
       "    .dataframe tbody tr th {\n",
       "        vertical-align: top;\n",
       "    }\n",
       "\n",
       "    .dataframe thead th {\n",
       "        text-align: right;\n",
       "    }\n",
       "</style>\n",
       "<table border=\"1\" class=\"dataframe\">\n",
       "  <thead>\n",
       "    <tr style=\"text-align: right;\">\n",
       "      <th></th>\n",
       "      <th>Id</th>\n",
       "      <th>Name</th>\n",
       "      <th>Brand_name</th>\n",
       "      <th>Category</th>\n",
       "      <th>Cat_code</th>\n",
       "    </tr>\n",
       "  </thead>\n",
       "  <tbody>\n",
       "    <tr>\n",
       "      <th>0</th>\n",
       "      <td>1</td>\n",
       "      <td>4C HomeStyle Parmesan Grated Cheese, 6 oz</td>\n",
       "      <td>4C</td>\n",
       "      <td>Dairy</td>\n",
       "      <td>2</td>\n",
       "    </tr>\n",
       "    <tr>\n",
       "      <th>1</th>\n",
       "      <td>2</td>\n",
       "      <td>4C 100% Natural Parmesan Cheese, 6 oz</td>\n",
       "      <td>NaN</td>\n",
       "      <td>Dairy</td>\n",
       "      <td>2</td>\n",
       "    </tr>\n",
       "    <tr>\n",
       "      <th>2</th>\n",
       "      <td>3</td>\n",
       "      <td>4C Parmesan &amp; Romano Cheese, Grated</td>\n",
       "      <td>4C</td>\n",
       "      <td>Dairy</td>\n",
       "      <td>2</td>\n",
       "    </tr>\n",
       "    <tr>\n",
       "      <th>3</th>\n",
       "      <td>4</td>\n",
       "      <td>Advance Fast Fixin' Country Fried Steaks with ...</td>\n",
       "      <td>Fast Fixin'</td>\n",
       "      <td>Frozen Foods</td>\n",
       "      <td>3</td>\n",
       "    </tr>\n",
       "    <tr>\n",
       "      <th>4</th>\n",
       "      <td>5</td>\n",
       "      <td>Borden: Salted 4 Ct Butter</td>\n",
       "      <td>Borden Dairy Company</td>\n",
       "      <td>Dairy</td>\n",
       "      <td>2</td>\n",
       "    </tr>\n",
       "    <tr>\n",
       "      <th>...</th>\n",
       "      <td>...</td>\n",
       "      <td>...</td>\n",
       "      <td>...</td>\n",
       "      <td>...</td>\n",
       "      <td>...</td>\n",
       "    </tr>\n",
       "    <tr>\n",
       "      <th>9994</th>\n",
       "      <td>9995</td>\n",
       "      <td>Cheerios Oat Crunch Cinnamon Cereal, Family Si...</td>\n",
       "      <td>Cheerios</td>\n",
       "      <td>NaN</td>\n",
       "      <td>-1</td>\n",
       "    </tr>\n",
       "    <tr>\n",
       "      <th>9995</th>\n",
       "      <td>9996</td>\n",
       "      <td>Cheerios Very Berry, Family Size - 19.5oz</td>\n",
       "      <td>Cheerios</td>\n",
       "      <td>NaN</td>\n",
       "      <td>-1</td>\n",
       "    </tr>\n",
       "    <tr>\n",
       "      <th>9996</th>\n",
       "      <td>9997</td>\n",
       "      <td>Honey Nut Cheerios Breakfast Cereal - 10.8oz</td>\n",
       "      <td>Cheerios</td>\n",
       "      <td>NaN</td>\n",
       "      <td>-1</td>\n",
       "    </tr>\n",
       "    <tr>\n",
       "      <th>9997</th>\n",
       "      <td>9998</td>\n",
       "      <td>Cinnamon Toast Crunch Breakfast Cereal, Family...</td>\n",
       "      <td>General Mills</td>\n",
       "      <td>NaN</td>\n",
       "      <td>-1</td>\n",
       "    </tr>\n",
       "    <tr>\n",
       "      <th>9998</th>\n",
       "      <td>9999</td>\n",
       "      <td>Cinnamon Toast Crunch Cereal, 12 oz</td>\n",
       "      <td>Cinnamon Toast Crunch</td>\n",
       "      <td>NaN</td>\n",
       "      <td>-1</td>\n",
       "    </tr>\n",
       "  </tbody>\n",
       "</table>\n",
       "<p>9999 rows × 5 columns</p>\n",
       "</div>"
      ],
      "text/plain": [
       "        Id                                               Name  \\\n",
       "0        1          4C HomeStyle Parmesan Grated Cheese, 6 oz   \n",
       "1        2              4C 100% Natural Parmesan Cheese, 6 oz   \n",
       "2        3                4C Parmesan & Romano Cheese, Grated   \n",
       "3        4  Advance Fast Fixin' Country Fried Steaks with ...   \n",
       "4        5                         Borden: Salted 4 Ct Butter   \n",
       "...    ...                                                ...   \n",
       "9994  9995  Cheerios Oat Crunch Cinnamon Cereal, Family Si...   \n",
       "9995  9996          Cheerios Very Berry, Family Size - 19.5oz   \n",
       "9996  9997       Honey Nut Cheerios Breakfast Cereal - 10.8oz   \n",
       "9997  9998  Cinnamon Toast Crunch Breakfast Cereal, Family...   \n",
       "9998  9999                Cinnamon Toast Crunch Cereal, 12 oz   \n",
       "\n",
       "                 Brand_name      Category  Cat_code  \n",
       "0                        4C         Dairy         2  \n",
       "1                       NaN         Dairy         2  \n",
       "2                        4C         Dairy         2  \n",
       "3               Fast Fixin'  Frozen Foods         3  \n",
       "4      Borden Dairy Company         Dairy         2  \n",
       "...                     ...           ...       ...  \n",
       "9994               Cheerios           NaN        -1  \n",
       "9995               Cheerios           NaN        -1  \n",
       "9996               Cheerios           NaN        -1  \n",
       "9997          General Mills           NaN        -1  \n",
       "9998  Cinnamon Toast Crunch           NaN        -1  \n",
       "\n",
       "[9999 rows x 5 columns]"
      ]
     },
     "execution_count": 2269,
     "metadata": {},
     "output_type": "execute_result"
    }
   ],
   "source": [
    "data"
   ]
  },
  {
   "cell_type": "markdown",
   "metadata": {},
   "source": [
    "### Create combine name column"
   ]
  },
  {
   "cell_type": "code",
   "execution_count": 2270,
   "metadata": {},
   "outputs": [],
   "source": [
    "data['Combine'] = data['Brand_name'].fillna('') + data['Name'].fillna('')  \n",
    "messages = data[['Combine', 'Cat_code']]"
   ]
  },
  {
   "cell_type": "code",
   "execution_count": 2271,
   "metadata": {},
   "outputs": [
    {
     "data": {
      "text/html": [
       "<div>\n",
       "<style scoped>\n",
       "    .dataframe tbody tr th:only-of-type {\n",
       "        vertical-align: middle;\n",
       "    }\n",
       "\n",
       "    .dataframe tbody tr th {\n",
       "        vertical-align: top;\n",
       "    }\n",
       "\n",
       "    .dataframe thead tr th {\n",
       "        text-align: left;\n",
       "    }\n",
       "\n",
       "    .dataframe thead tr:last-of-type th {\n",
       "        text-align: right;\n",
       "    }\n",
       "</style>\n",
       "<table border=\"1\" class=\"dataframe\">\n",
       "  <thead>\n",
       "    <tr>\n",
       "      <th></th>\n",
       "      <th colspan=\"4\" halign=\"left\">Combine</th>\n",
       "    </tr>\n",
       "    <tr>\n",
       "      <th></th>\n",
       "      <th>count</th>\n",
       "      <th>unique</th>\n",
       "      <th>top</th>\n",
       "      <th>freq</th>\n",
       "    </tr>\n",
       "    <tr>\n",
       "      <th>Cat_code</th>\n",
       "      <th></th>\n",
       "      <th></th>\n",
       "      <th></th>\n",
       "      <th></th>\n",
       "    </tr>\n",
       "  </thead>\n",
       "  <tbody>\n",
       "    <tr>\n",
       "      <th>-1</th>\n",
       "      <td>1999</td>\n",
       "      <td>1932</td>\n",
       "      <td>National Cattlemen's Beef AssociationGround Beef</td>\n",
       "      <td>15</td>\n",
       "    </tr>\n",
       "    <tr>\n",
       "      <th>0</th>\n",
       "      <td>459</td>\n",
       "      <td>450</td>\n",
       "      <td>Cap'n CrunchCap'n Crunch's Crunch Berries Cereal</td>\n",
       "      <td>2</td>\n",
       "    </tr>\n",
       "    <tr>\n",
       "      <th>1</th>\n",
       "      <td>616</td>\n",
       "      <td>605</td>\n",
       "      <td>SkittlesSkittles Original Candy</td>\n",
       "      <td>2</td>\n",
       "    </tr>\n",
       "    <tr>\n",
       "      <th>2</th>\n",
       "      <td>2352</td>\n",
       "      <td>2262</td>\n",
       "      <td>Cheese</td>\n",
       "      <td>8</td>\n",
       "    </tr>\n",
       "    <tr>\n",
       "      <th>3</th>\n",
       "      <td>2137</td>\n",
       "      <td>2086</td>\n",
       "      <td>Pizza</td>\n",
       "      <td>9</td>\n",
       "    </tr>\n",
       "    <tr>\n",
       "      <th>4</th>\n",
       "      <td>677</td>\n",
       "      <td>663</td>\n",
       "      <td>Spaghetti</td>\n",
       "      <td>4</td>\n",
       "    </tr>\n",
       "    <tr>\n",
       "      <th>5</th>\n",
       "      <td>803</td>\n",
       "      <td>720</td>\n",
       "      <td>National Cattlemen's Beef AssociationGround Beef</td>\n",
       "      <td>45</td>\n",
       "    </tr>\n",
       "    <tr>\n",
       "      <th>6</th>\n",
       "      <td>956</td>\n",
       "      <td>872</td>\n",
       "      <td>Generic ProduceStrawberries</td>\n",
       "      <td>6</td>\n",
       "    </tr>\n",
       "  </tbody>\n",
       "</table>\n",
       "</div>"
      ],
      "text/plain": [
       "         Combine                                                              \n",
       "           count unique                                               top freq\n",
       "Cat_code                                                                      \n",
       "-1          1999   1932  National Cattlemen's Beef AssociationGround Beef   15\n",
       " 0           459    450  Cap'n CrunchCap'n Crunch's Crunch Berries Cereal    2\n",
       " 1           616    605                   SkittlesSkittles Original Candy    2\n",
       " 2          2352   2262                                            Cheese    8\n",
       " 3          2137   2086                                             Pizza    9\n",
       " 4           677    663                                         Spaghetti    4\n",
       " 5           803    720  National Cattlemen's Beef AssociationGround Beef   45\n",
       " 6           956    872                       Generic ProduceStrawberries    6"
      ]
     },
     "execution_count": 2271,
     "metadata": {},
     "output_type": "execute_result"
    }
   ],
   "source": [
    "messages.groupby('Cat_code').describe()"
   ]
  },
  {
   "cell_type": "code",
   "execution_count": 2272,
   "metadata": {},
   "outputs": [
    {
     "name": "stderr",
     "output_type": "stream",
     "text": [
      "[nltk_data] Downloading package punkt to\n",
      "[nltk_data]     /Users/huangzijing/nltk_data...\n",
      "[nltk_data]   Package punkt is already up-to-date!\n"
     ]
    },
    {
     "data": {
      "text/plain": [
       "True"
      ]
     },
     "execution_count": 2272,
     "metadata": {},
     "output_type": "execute_result"
    }
   ],
   "source": [
    "import nltk\n",
    "nltk.download('punkt')"
   ]
  },
  {
   "cell_type": "code",
   "execution_count": null,
   "metadata": {},
   "outputs": [],
   "source": []
  },
  {
   "cell_type": "code",
   "execution_count": null,
   "metadata": {},
   "outputs": [],
   "source": []
  },
  {
   "cell_type": "code",
   "execution_count": 2273,
   "metadata": {},
   "outputs": [],
   "source": [
    "import re"
   ]
  },
  {
   "cell_type": "markdown",
   "metadata": {},
   "source": [
    "### Delete After ',' and before ':' "
   ]
  },
  {
   "cell_type": "code",
   "execution_count": 2274,
   "metadata": {},
   "outputs": [],
   "source": [
    "def preprocess(sen):\n",
    "    sep1 = ','\n",
    "    sep2 = '-'\n",
    "    \n",
    "    if sep1 in sen:\n",
    "        sen = sen.split(sep1, 1)[0]\n",
    "        \n",
    "    if sep2 in sen:\n",
    "        sen = sen.split(sep2, 1)[0]\n",
    "        \n",
    "    else:\n",
    "        sen \n",
    "    #en = re.sub(r\"[a-zA-Z0-9]\", \" \", sen)\n",
    "    return(sen)\n",
    "\n"
   ]
  },
  {
   "cell_type": "code",
   "execution_count": null,
   "metadata": {},
   "outputs": [],
   "source": []
  },
  {
   "cell_type": "code",
   "execution_count": 2275,
   "metadata": {},
   "outputs": [
    {
     "name": "stdout",
     "output_type": "stream",
     "text": [
      "                                                Combine  Cat_code\n",
      "0           4C4C HomeStyle Parmesan Grated Cheese, 6 oz         2\n",
      "1                 4C 100% Natural Parmesan Cheese, 6 oz         2\n",
      "2                 4C4C Parmesan & Romano Cheese, Grated         2\n",
      "3     Fast Fixin'Advance Fast Fixin' Country Fried S...         3\n",
      "4        Borden Dairy CompanyBorden: Salted 4 Ct Butter         2\n",
      "...                                                 ...       ...\n",
      "9994  CheeriosCheerios Oat Crunch Cinnamon Cereal, F...        -1\n",
      "9995  CheeriosCheerios Very Berry, Family Size - 19.5oz        -1\n",
      "9996  CheeriosHoney Nut Cheerios Breakfast Cereal - ...        -1\n",
      "9997  General MillsCinnamon Toast Crunch Breakfast C...        -1\n",
      "9998  Cinnamon Toast CrunchCinnamon Toast Crunch Cer...        -1\n",
      "\n",
      "[9999 rows x 2 columns]\n"
     ]
    }
   ],
   "source": [
    "print(messages)"
   ]
  },
  {
   "cell_type": "code",
   "execution_count": 2276,
   "metadata": {},
   "outputs": [],
   "source": [
    "# from sklearn.feature_extraction.text import CountVectorizer\n",
    "# from sklearn.feature_extraction.text import TfidfTransformer\n",
    "# from sklearn.naive_bayes import MultinomialNB\n",
    "# messages['Combine'] = CountVectorizer(analyzer = \n",
    "#                                   preprocess).fit_transform(messages['Combine'])\n"
   ]
  },
  {
   "cell_type": "code",
   "execution_count": 2277,
   "metadata": {},
   "outputs": [],
   "source": [
    "\n",
    "# messages['Combine'] = bow_transformer.transform(messages['Combine'])"
   ]
  },
  {
   "cell_type": "code",
   "execution_count": null,
   "metadata": {},
   "outputs": [],
   "source": []
  },
  {
   "cell_type": "code",
   "execution_count": null,
   "metadata": {},
   "outputs": [],
   "source": []
  },
  {
   "cell_type": "markdown",
   "metadata": {},
   "source": [
    "# Train Test Split"
   ]
  },
  {
   "cell_type": "code",
   "execution_count": 2278,
   "metadata": {},
   "outputs": [],
   "source": [
    "msg_train = messages[messages['Cat_code'] != -1]['Combine']\n",
    "label_train = messages[messages['Cat_code'] != -1]['Cat_code']\n",
    "msg_test = messages[messages['Cat_code'] == -1]['Combine']\n",
    "label_test = pd.read_csv('/Users/huangzijing/Desktop/ibotta_Solution.csv')\n",
    "label_test = label_test['Cat_code']"
   ]
  },
  {
   "cell_type": "code",
   "execution_count": null,
   "metadata": {},
   "outputs": [],
   "source": []
  },
  {
   "cell_type": "markdown",
   "metadata": {},
   "source": [
    "# Fit model"
   ]
  },
  {
   "cell_type": "markdown",
   "metadata": {},
   "source": [
    "### NLP"
   ]
  },
  {
   "cell_type": "code",
   "execution_count": 2279,
   "metadata": {},
   "outputs": [
    {
     "name": "stdout",
     "output_type": "stream",
     "text": [
      "              precision    recall  f1-score   support\n",
      "\n",
      "           0       0.78      0.49      0.60       134\n",
      "           1       0.83      0.53      0.65       174\n",
      "           2       0.64      0.86      0.74       466\n",
      "           3       0.55      0.72      0.62       454\n",
      "           4       0.43      0.63      0.51        59\n",
      "           5       0.85      0.66      0.74       385\n",
      "           6       0.85      0.54      0.66       327\n",
      "\n",
      "    accuracy                           0.68      1999\n",
      "   macro avg       0.71      0.63      0.65      1999\n",
      "weighted avg       0.72      0.68      0.68      1999\n",
      "\n"
     ]
    }
   ],
   "source": [
    "from sklearn.feature_extraction.text import CountVectorizer\n",
    "from sklearn.feature_extraction.text import TfidfTransformer\n",
    "from sklearn.naive_bayes import MultinomialNB\n",
    "from sklearn.pipeline import Pipeline\n",
    "from sklearn.ensemble import RandomForestClassifier\n",
    "from xgboost import XGBClassifier\n",
    "\n",
    "pipeline = Pipeline([\n",
    "        ('bow',CountVectorizer(analyzer = preprocess)),\n",
    "        #('tfidf', TfidfTransformer()),\n",
    "        (#'classfier', RandomForestClassifier())])\n",
    "         'classfier',XGBClassifier())])\n",
    "         #'classfier',MultinomialNB())])\n",
    "\n",
    "\n",
    "pipeline.fit(msg_train, label_train)\n",
    "\n",
    "predictions = pipeline.predict(msg_test)\n",
    "\n",
    "from sklearn.metrics import classification_report\n",
    "print(classification_report(label_test, predictions))\n"
   ]
  },
  {
   "cell_type": "code",
   "execution_count": 2280,
   "metadata": {},
   "outputs": [
    {
     "data": {
      "text/plain": [
       "0.6758379189594798"
      ]
     },
     "execution_count": 2280,
     "metadata": {},
     "output_type": "execute_result"
    }
   ],
   "source": [
    "sum(label_test == predictions) / len(label_test)"
   ]
  },
  {
   "cell_type": "code",
   "execution_count": null,
   "metadata": {},
   "outputs": [],
   "source": []
  },
  {
   "cell_type": "code",
   "execution_count": null,
   "metadata": {},
   "outputs": [],
   "source": []
  },
  {
   "cell_type": "markdown",
   "metadata": {},
   "source": [
    "### CNN"
   ]
  },
  {
   "cell_type": "code",
   "execution_count": 2281,
   "metadata": {},
   "outputs": [
    {
     "name": "stderr",
     "output_type": "stream",
     "text": [
      "<ipython-input-2281-7123ad6ae314>:1: SettingWithCopyWarning: \n",
      "A value is trying to be set on a copy of a slice from a DataFrame.\n",
      "Try using .loc[row_indexer,col_indexer] = value instead\n",
      "\n",
      "See the caveats in the documentation: https://pandas.pydata.org/pandas-docs/stable/user_guide/indexing.html#returning-a-view-versus-a-copy\n",
      "  messages['Combine'] = messages['Combine'].apply(preprocess)\n"
     ]
    }
   ],
   "source": [
    "messages['Combine'] = messages['Combine'].apply(preprocess)"
   ]
  },
  {
   "cell_type": "code",
   "execution_count": 2282,
   "metadata": {},
   "outputs": [],
   "source": [
    "msg_train = messages[messages['Cat_code'] != -1]['Combine']\n",
    "label_train = messages[messages['Cat_code'] != -1]['Cat_code']\n",
    "msg_test = messages[messages['Cat_code'] == -1]['Combine']\n",
    "label_test = pd.read_csv('/Users/huangzijing/Desktop/ibotta_Solution.csv')\n",
    "label_test = label_test['Cat_code']"
   ]
  },
  {
   "cell_type": "code",
   "execution_count": 2283,
   "metadata": {},
   "outputs": [
    {
     "name": "stdout",
     "output_type": "stream",
     "text": [
      "Number of training samples: 8000\n",
      "Number of testing samples: 1999\n"
     ]
    }
   ],
   "source": [
    "# load data\n",
    "import pandas as pd\n",
    "import numpy as np\n",
    "df_train = pd.read_csv(\"ibotta_train.csv\")\n",
    "df_test  = pd.read_csv(\"ibotta_test.csv\")\n",
    "\n",
    "# get sample size\n",
    "n_train = df_train.shape[0]\n",
    "n_test = df_test.shape[0]\n",
    "\n",
    "print(\"Number of training samples:\",n_train)\n",
    "print(\"Number of testing samples:\",n_test)"
   ]
  },
  {
   "cell_type": "code",
   "execution_count": 2284,
   "metadata": {},
   "outputs": [
    {
     "data": {
      "text/plain": [
       "(8000, 7)"
      ]
     },
     "execution_count": 2284,
     "metadata": {},
     "output_type": "execute_result"
    }
   ],
   "source": [
    "from keras.utils import to_categorical\n",
    "y_train = df_train[\"Cat_code\"] \n",
    "y_train = to_categorical(y_train)\n",
    "y_train.shape"
   ]
  },
  {
   "cell_type": "code",
   "execution_count": 2285,
   "metadata": {},
   "outputs": [
    {
     "name": "stdout",
     "output_type": "stream",
     "text": [
      "number of training names: 8000\n",
      "number of testing names: 1999\n"
     ]
    }
   ],
   "source": [
    "# remove missing values\n",
    "df_train['Brand_name'] = msg_train\n",
    "msg_test.reset_index(inplace = True, drop = True)\n",
    "df_test['Brand_name'] = msg_test\n",
    "#remove brand data\n",
    "x_train_brand = df_train[\"Brand_name\"]\n",
    "x_test_brand = df_test['Brand_name']\n",
    "print(\"number of training names:\", x_train_brand.shape[0])\n",
    "print(\"number of testing names:\", x_test_brand.shape[0])"
   ]
  },
  {
   "cell_type": "code",
   "execution_count": 2286,
   "metadata": {},
   "outputs": [
    {
     "data": {
      "text/plain": [
       "0                                EggoKellogg's Eggo Cinna\n",
       "1                         RippleRipple Milk Original 48oz\n",
       "2                               RippleRipple Milk Vanilla\n",
       "3                        RippleRipple Milk Chocolate 48oz\n",
       "4                                 Ripple Dairy Free Plant\n",
       "                              ...                        \n",
       "1994          CheeriosCheerios Oat Crunch Cinnamon Cereal\n",
       "1995                          CheeriosCheerios Very Berry\n",
       "1996         CheeriosHoney Nut Cheerios Breakfast Cereal \n",
       "1997    General MillsCinnamon Toast Crunch Breakfast C...\n",
       "1998    Cinnamon Toast CrunchCinnamon Toast Crunch Cereal\n",
       "Name: Brand_name, Length: 1999, dtype: object"
      ]
     },
     "execution_count": 2286,
     "metadata": {},
     "output_type": "execute_result"
    }
   ],
   "source": [
    "df_test['Brand_name'] "
   ]
  },
  {
   "cell_type": "code",
   "execution_count": null,
   "metadata": {},
   "outputs": [],
   "source": []
  },
  {
   "cell_type": "code",
   "execution_count": null,
   "metadata": {},
   "outputs": [],
   "source": []
  },
  {
   "cell_type": "code",
   "execution_count": 2287,
   "metadata": {},
   "outputs": [
    {
     "name": "stdout",
     "output_type": "stream",
     "text": [
      "number of training lables: 8000\n",
      "Shape of training label tensor: (8000, 7)\n"
     ]
    }
   ],
   "source": [
    "y_train = df_train[\"Cat_code\"] \n",
    "y_train = np.asarray(y_train)\n",
    "y_train = to_categorical(y_train)\n",
    "print(\"number of training lables:\", y_train.shape[0])\n",
    "print(\"Shape of training label tensor:\", y_train.shape)"
   ]
  },
  {
   "cell_type": "code",
   "execution_count": null,
   "metadata": {},
   "outputs": [],
   "source": []
  },
  {
   "cell_type": "code",
   "execution_count": 2288,
   "metadata": {},
   "outputs": [
    {
     "name": "stdout",
     "output_type": "stream",
     "text": [
      "found 6626 unique tokens.\n",
      "Shape of text tensor: (9999,)\n",
      "Shape of data tensor: (9999, 25)\n",
      "Shape of training input tensor: (8000, 25)\n",
      "Shape of testing input tensor: (1999, 25)\n"
     ]
    }
   ],
   "source": [
    "# preprocessing of raw brand name data\n",
    "from keras.preprocessing.text import Tokenizer\n",
    "from keras.preprocessing.sequence import pad_sequences\n",
    "from keras.utils import to_categorical\n",
    "import numpy as np\n",
    "\n",
    "max_len = 25\n",
    "#max_words = 10000\n",
    "\n",
    "all_brand = x_train_brand.append(x_test_brand)\n",
    "\n",
    "# convert to integer sequence\n",
    "#tokenizer = Tokenizer(num_words = max_words)\n",
    "tokenizer1 = Tokenizer()\n",
    "tokenizer1.fit_on_texts(all_brand)\n",
    "sequences1 = tokenizer1.texts_to_sequences(all_brand)\n",
    "\n",
    "word_index1 = tokenizer1.word_index\n",
    "print(\"found %s unique tokens.\" % len(word_index1))\n",
    "\n",
    "data_brand = pad_sequences(sequences1, maxlen = max_len)\n",
    "\n",
    "\n",
    "print(\"Shape of text tensor:\", all_brand.shape)\n",
    "print(\"Shape of data tensor:\", data_brand.shape)\n",
    "\n",
    "# separate training and testing sequences\n",
    "x_train_brand = data_brand[:8000]\n",
    "x_test_brand = data_brand[8000:]\n",
    "print(\"Shape of training input tensor:\", x_train_brand.shape)\n",
    "print(\"Shape of testing input tensor:\", x_test_brand.shape)"
   ]
  },
  {
   "cell_type": "code",
   "execution_count": 2289,
   "metadata": {},
   "outputs": [
    {
     "name": "stdout",
     "output_type": "stream",
     "text": [
      "Model: \"sequential_82\"\n",
      "_________________________________________________________________\n",
      "Layer (type)                 Output Shape              Param #   \n",
      "=================================================================\n",
      "embedding_34 (Embedding)     (None, None, 100)         662700    \n",
      "_________________________________________________________________\n",
      "conv1d_20 (Conv1D)           (None, None, 128)         38528     \n",
      "_________________________________________________________________\n",
      "global_max_pooling1d_17 (Glo (None, 128)               0         \n",
      "_________________________________________________________________\n",
      "dropout_119 (Dropout)        (None, 128)               0         \n",
      "_________________________________________________________________\n",
      "dense_119 (Dense)            (None, 256)               33024     \n",
      "_________________________________________________________________\n",
      "dropout_120 (Dropout)        (None, 256)               0         \n",
      "_________________________________________________________________\n",
      "dense_120 (Dense)            (None, 128)               32896     \n",
      "_________________________________________________________________\n",
      "dropout_121 (Dropout)        (None, 128)               0         \n",
      "_________________________________________________________________\n",
      "dense_121 (Dense)            (None, 64)                8256      \n",
      "_________________________________________________________________\n",
      "dropout_122 (Dropout)        (None, 64)                0         \n",
      "_________________________________________________________________\n",
      "dense_122 (Dense)            (None, 32)                2080      \n",
      "_________________________________________________________________\n",
      "dropout_123 (Dropout)        (None, 32)                0         \n",
      "_________________________________________________________________\n",
      "dense_123 (Dense)            (None, 7)                 231       \n",
      "=================================================================\n",
      "Total params: 777,715\n",
      "Trainable params: 777,715\n",
      "Non-trainable params: 0\n",
      "_________________________________________________________________\n"
     ]
    }
   ],
   "source": [
    "from keras.models import Sequential\n",
    "from keras.layers import Embedding, LSTM, Dense, Conv1D, GlobalMaxPooling1D, MaxPooling2D, Dropout\n",
    "\n",
    "\n",
    "# define model\n",
    "model_brand = Sequential()\n",
    "model_brand.add(Embedding(len(word_index1)+1, 100))\n",
    "model_brand.add(Conv1D(128, 3, padding = \"valid\", activation = \"relu\", strides = 1))\n",
    "model_brand.add(GlobalMaxPooling1D())\n",
    "model_brand.add(Dropout(.5))\n",
    "# model_brand.add(Conv1D(32, 3, padding = \"valid\", activation = \"relu\", strides = 1))\n",
    "# model_brand.add(GlobalMaxPooling1D())\n",
    "# model_brand.add(Dropout(.5))\n",
    "# model_brand.add(Conv1D(32, 3, padding = \"valid\", activation = \"relu\", strides = 1))\n",
    "# model_brand.add(GlobalMaxPooling1D())\n",
    "#model_brand.add(Dropout(.5))\n",
    "model_brand.add(Dense(256, activation=\"relu\"))\n",
    "model_brand.add(Dropout(.5))\n",
    "model_brand.add(Dense(128, activation=\"relu\"))\n",
    "model_brand.add(Dropout(.4))\n",
    "model_brand.add(Dense(64, activation=\"relu\"))\n",
    "model_brand.add(Dropout(.3))\n",
    "model_brand.add(Dense(32, activation=\"relu\"))\n",
    "model_brand.add(Dropout(.3))\n",
    "model_brand.add(Dense(7, activation=\"softmax\"))\n",
    "model_brand.summary()\n",
    "\n",
    "                \n",
    "from tensorflow.keras.callbacks import EarlyStopping\n",
    "early_stop = EarlyStopping(monitor = 'val_loss', mode = 'min',\n",
    "                            verbose = 2, patience = 10)\n",
    "\n",
    "# compile model\n",
    "model_brand.compile(optimizer=\"adam\",\n",
    "              loss=\"categorical_crossentropy\",\n",
    "              metrics=[\"acc\"])"
   ]
  },
  {
   "cell_type": "code",
   "execution_count": 2290,
   "metadata": {},
   "outputs": [
    {
     "data": {
      "text/plain": [
       "(8000, 7)"
      ]
     },
     "execution_count": 2290,
     "metadata": {},
     "output_type": "execute_result"
    }
   ],
   "source": [
    "from keras.utils import to_categorical\n",
    "y_train = train[\"Cat_code\"] \n",
    "y_train = to_categorical(y_train)\n",
    "y_train.shape"
   ]
  },
  {
   "cell_type": "code",
   "execution_count": 2291,
   "metadata": {},
   "outputs": [
    {
     "name": "stdout",
     "output_type": "stream",
     "text": [
      "Epoch 1/50\n",
      "50/50 [==============================] - 2s 17ms/step - loss: 1.8849 - acc: 0.2425 - val_loss: 1.7184 - val_acc: 0.2931\n",
      "Epoch 2/50\n",
      "50/50 [==============================] - 1s 12ms/step - loss: 1.5649 - acc: 0.3274 - val_loss: 1.4316 - val_acc: 0.3875\n",
      "Epoch 3/50\n",
      "50/50 [==============================] - 1s 13ms/step - loss: 1.1315 - acc: 0.5221 - val_loss: 1.1824 - val_acc: 0.5925\n",
      "Epoch 4/50\n",
      "50/50 [==============================] - 1s 13ms/step - loss: 0.8822 - acc: 0.6418 - val_loss: 1.1379 - val_acc: 0.4950\n",
      "Epoch 5/50\n",
      "50/50 [==============================] - 1s 13ms/step - loss: 0.7867 - acc: 0.6546 - val_loss: 1.1375 - val_acc: 0.5138\n",
      "Epoch 6/50\n",
      "50/50 [==============================] - 1s 15ms/step - loss: 0.7483 - acc: 0.6654 - val_loss: 1.1050 - val_acc: 0.5431\n",
      "Epoch 7/50\n",
      "50/50 [==============================] - 1s 16ms/step - loss: 0.7040 - acc: 0.6845 - val_loss: 1.0813 - val_acc: 0.6237\n",
      "Epoch 8/50\n",
      "50/50 [==============================] - 1s 15ms/step - loss: 0.6711 - acc: 0.7155 - val_loss: 1.0746 - val_acc: 0.6569\n",
      "Epoch 9/50\n",
      "50/50 [==============================] - 1s 16ms/step - loss: 0.5942 - acc: 0.7599 - val_loss: 1.0255 - val_acc: 0.6556\n",
      "Epoch 10/50\n",
      "50/50 [==============================] - 1s 16ms/step - loss: 0.4864 - acc: 0.7938 - val_loss: 1.0925 - val_acc: 0.6575\n",
      "Epoch 11/50\n",
      "50/50 [==============================] - 1s 15ms/step - loss: 0.3987 - acc: 0.8252 - val_loss: 0.9378 - val_acc: 0.6850\n",
      "Epoch 12/50\n",
      "50/50 [==============================] - 1s 16ms/step - loss: 0.3630 - acc: 0.8407 - val_loss: 0.9313 - val_acc: 0.7188\n",
      "Epoch 13/50\n",
      "50/50 [==============================] - 1s 14ms/step - loss: 0.3275 - acc: 0.8717 - val_loss: 0.8672 - val_acc: 0.7444\n",
      "Epoch 14/50\n",
      "50/50 [==============================] - 1s 14ms/step - loss: 0.2896 - acc: 0.8873 - val_loss: 0.8476 - val_acc: 0.8025\n",
      "Epoch 15/50\n",
      "50/50 [==============================] - 1s 14ms/step - loss: 0.2350 - acc: 0.9202 - val_loss: 0.8514 - val_acc: 0.8250\n",
      "Epoch 16/50\n",
      "50/50 [==============================] - 1s 14ms/step - loss: 0.1874 - acc: 0.9318 - val_loss: 0.8744 - val_acc: 0.8281\n",
      "Epoch 17/50\n",
      "50/50 [==============================] - 1s 14ms/step - loss: 0.1615 - acc: 0.9533 - val_loss: 0.8889 - val_acc: 0.8313\n",
      "Epoch 18/50\n",
      "50/50 [==============================] - 1s 15ms/step - loss: 0.1118 - acc: 0.9658 - val_loss: 0.9040 - val_acc: 0.8431\n",
      "Epoch 19/50\n",
      "50/50 [==============================] - 1s 15ms/step - loss: 0.0945 - acc: 0.9730 - val_loss: 0.9862 - val_acc: 0.8338\n",
      "Epoch 20/50\n",
      "50/50 [==============================] - 1s 15ms/step - loss: 0.0919 - acc: 0.9718 - val_loss: 0.9783 - val_acc: 0.8431\n",
      "Epoch 21/50\n",
      "50/50 [==============================] - 1s 15ms/step - loss: 0.0832 - acc: 0.9788 - val_loss: 1.0270 - val_acc: 0.8544\n",
      "Epoch 22/50\n",
      "50/50 [==============================] - 1s 16ms/step - loss: 0.0803 - acc: 0.9798 - val_loss: 1.0198 - val_acc: 0.8531\n",
      "Epoch 23/50\n",
      "50/50 [==============================] - 1s 16ms/step - loss: 0.0728 - acc: 0.9814 - val_loss: 1.0226 - val_acc: 0.8500\n",
      "Epoch 24/50\n",
      "50/50 [==============================] - 1s 15ms/step - loss: 0.0645 - acc: 0.9844 - val_loss: 1.0923 - val_acc: 0.8425\n",
      "Epoch 00024: early stopping\n"
     ]
    }
   ],
   "source": [
    "# fit model\n",
    "history_brand = model_brand.fit(x_train_brand, \n",
    "                    y_train,\n",
    "                    epochs = 50,\n",
    "                    batch_size = 128,\n",
    "                    validation_split = 0.2,\n",
    "                    callbacks=[early_stop])"
   ]
  },
  {
   "cell_type": "code",
   "execution_count": 2292,
   "metadata": {},
   "outputs": [
    {
     "name": "stderr",
     "output_type": "stream",
     "text": [
      "/Users/huangzijing/opt/miniconda3/lib/python3.8/site-packages/tensorflow/python/keras/engine/sequential.py:450: UserWarning: `model.predict_classes()` is deprecated and will be removed after 2021-01-01. Please use instead:* `np.argmax(model.predict(x), axis=-1)`,   if your model does multi-class classification   (e.g. if it uses a `softmax` last-layer activation).* `(model.predict(x) > 0.5).astype(\"int32\")`,   if your model does binary classification   (e.g. if it uses a `sigmoid` last-layer activation).\n",
      "  warnings.warn('`model.predict_classes()` is deprecated and '\n"
     ]
    }
   ],
   "source": [
    "predictions = model_brand.predict_classes(x_test_brand)"
   ]
  },
  {
   "cell_type": "code",
   "execution_count": 2293,
   "metadata": {},
   "outputs": [
    {
     "data": {
      "text/plain": [
       "array([3, 2, 2, ..., 0, 0, 0])"
      ]
     },
     "execution_count": 2293,
     "metadata": {},
     "output_type": "execute_result"
    }
   ],
   "source": [
    "predictions"
   ]
  },
  {
   "cell_type": "code",
   "execution_count": 2294,
   "metadata": {},
   "outputs": [
    {
     "data": {
      "text/plain": [
       "0.7853926963481741"
      ]
     },
     "execution_count": 2294,
     "metadata": {},
     "output_type": "execute_result"
    }
   ],
   "source": [
    "sum(label_test == predictions) / len(label_test)"
   ]
  },
  {
   "cell_type": "code",
   "execution_count": null,
   "metadata": {},
   "outputs": [],
   "source": []
  },
  {
   "cell_type": "code",
   "execution_count": null,
   "metadata": {},
   "outputs": [],
   "source": []
  },
  {
   "cell_type": "markdown",
   "metadata": {},
   "source": [
    "### RNN"
   ]
  },
  {
   "cell_type": "code",
   "execution_count": 2295,
   "metadata": {},
   "outputs": [
    {
     "name": "stdout",
     "output_type": "stream",
     "text": [
      "Model: \"sequential_83\"\n",
      "_________________________________________________________________\n",
      "Layer (type)                 Output Shape              Param #   \n",
      "=================================================================\n",
      "embedding_35 (Embedding)     (None, None, 200)         1325400   \n",
      "_________________________________________________________________\n",
      "lstm_9 (LSTM)                (None, None, 128)         168448    \n",
      "_________________________________________________________________\n",
      "dropout_124 (Dropout)        (None, None, 128)         0         \n",
      "_________________________________________________________________\n",
      "lstm_10 (LSTM)               (None, None, 64)          49408     \n",
      "_________________________________________________________________\n",
      "dropout_125 (Dropout)        (None, None, 64)          0         \n",
      "_________________________________________________________________\n",
      "lstm_11 (LSTM)               (None, 32)                12416     \n",
      "_________________________________________________________________\n",
      "dropout_126 (Dropout)        (None, 32)                0         \n",
      "_________________________________________________________________\n",
      "dense_124 (Dense)            (None, 7)                 231       \n",
      "=================================================================\n",
      "Total params: 1,555,903\n",
      "Trainable params: 1,555,903\n",
      "Non-trainable params: 0\n",
      "_________________________________________________________________\n"
     ]
    }
   ],
   "source": [
    "# define model\n",
    "model_name = Sequential()\n",
    "model_name.add(Embedding(len(word_index1)+1, 200))\n",
    "model_name.add(LSTM(128, return_sequences=True))\n",
    "model_name.add(Dropout(0.2))\n",
    "model_name.add(LSTM(64, return_sequences=True))\n",
    "model_name.add(Dropout(0.2))\n",
    "model_name.add(LSTM(32))\n",
    "model_name.add(Dropout(0.2))\n",
    "model_name.add(Dense(7, activation=\"softmax\"))\n",
    "model_name.summary()\n",
    "\n",
    "\n",
    "# compile model\n",
    "model_name.compile(optimizer=\"adam\",\n",
    "              loss=\"categorical_crossentropy\",\n",
    "              metrics=[\"acc\"])"
   ]
  },
  {
   "cell_type": "code",
   "execution_count": 2296,
   "metadata": {},
   "outputs": [
    {
     "name": "stdout",
     "output_type": "stream",
     "text": [
      "Epoch 1/30\n",
      "50/50 [==============================] - 10s 126ms/step - loss: 1.8171 - acc: 0.2783 - val_loss: 1.7889 - val_acc: 0.2944\n",
      "Epoch 2/30\n",
      "50/50 [==============================] - 5s 96ms/step - loss: 1.6651 - acc: 0.4040 - val_loss: 1.3410 - val_acc: 0.5575\n",
      "Epoch 3/30\n",
      "50/50 [==============================] - 5s 105ms/step - loss: 0.8794 - acc: 0.7056 - val_loss: 0.7946 - val_acc: 0.7675\n",
      "Epoch 4/30\n",
      "50/50 [==============================] - 5s 101ms/step - loss: 0.3981 - acc: 0.8925 - val_loss: 0.6878 - val_acc: 0.8012\n",
      "Epoch 5/30\n",
      "50/50 [==============================] - 5s 107ms/step - loss: 0.1960 - acc: 0.9514 - val_loss: 0.5666 - val_acc: 0.8394\n",
      "Epoch 6/30\n",
      "50/50 [==============================] - 5s 96ms/step - loss: 0.1403 - acc: 0.9648 - val_loss: 0.5772 - val_acc: 0.8394\n",
      "Epoch 7/30\n",
      "50/50 [==============================] - 5s 103ms/step - loss: 0.0953 - acc: 0.9801 - val_loss: 0.5555 - val_acc: 0.8512\n",
      "Epoch 8/30\n",
      "50/50 [==============================] - 5s 96ms/step - loss: 0.0681 - acc: 0.9874 - val_loss: 0.6540 - val_acc: 0.8356\n",
      "Epoch 9/30\n",
      "50/50 [==============================] - 5s 103ms/step - loss: 0.0696 - acc: 0.9848 - val_loss: 0.6834 - val_acc: 0.8381\n",
      "Epoch 10/30\n",
      "50/50 [==============================] - 5s 98ms/step - loss: 0.0606 - acc: 0.9860 - val_loss: 0.6233 - val_acc: 0.8494\n",
      "Epoch 11/30\n",
      "50/50 [==============================] - 5s 99ms/step - loss: 0.0443 - acc: 0.9906 - val_loss: 0.6967 - val_acc: 0.8325\n",
      "Epoch 12/30\n",
      "50/50 [==============================] - 5s 102ms/step - loss: 0.0388 - acc: 0.9921 - val_loss: 0.7079 - val_acc: 0.8413\n",
      "Epoch 13/30\n",
      "50/50 [==============================] - 5s 103ms/step - loss: 0.0395 - acc: 0.9911 - val_loss: 0.7057 - val_acc: 0.8369\n",
      "Epoch 14/30\n",
      "50/50 [==============================] - 5s 103ms/step - loss: 0.0309 - acc: 0.9922 - val_loss: 0.7310 - val_acc: 0.8363\n",
      "Epoch 15/30\n",
      "50/50 [==============================] - 5s 98ms/step - loss: 0.0313 - acc: 0.9937 - val_loss: 0.7404 - val_acc: 0.8406\n",
      "Epoch 16/30\n",
      "50/50 [==============================] - 5s 104ms/step - loss: 0.0272 - acc: 0.9932 - val_loss: 0.6685 - val_acc: 0.8413\n",
      "Epoch 17/30\n",
      "50/50 [==============================] - 5s 97ms/step - loss: 0.0278 - acc: 0.9921 - val_loss: 0.7108 - val_acc: 0.8431\n",
      "Epoch 00017: early stopping\n"
     ]
    }
   ],
   "source": [
    "# fit model\n",
    "history_name = model_name.fit(x_train_brand, \n",
    "                    y_train,\n",
    "                    epochs = 30,\n",
    "                    batch_size = 128,\n",
    "                    validation_split = 0.2,\n",
    "                    callbacks=[early_stop])"
   ]
  },
  {
   "cell_type": "code",
   "execution_count": 2297,
   "metadata": {},
   "outputs": [
    {
     "name": "stderr",
     "output_type": "stream",
     "text": [
      "/Users/huangzijing/opt/miniconda3/lib/python3.8/site-packages/tensorflow/python/keras/engine/sequential.py:450: UserWarning: `model.predict_classes()` is deprecated and will be removed after 2021-01-01. Please use instead:* `np.argmax(model.predict(x), axis=-1)`,   if your model does multi-class classification   (e.g. if it uses a `softmax` last-layer activation).* `(model.predict(x) > 0.5).astype(\"int32\")`,   if your model does binary classification   (e.g. if it uses a `sigmoid` last-layer activation).\n",
      "  warnings.warn('`model.predict_classes()` is deprecated and '\n"
     ]
    }
   ],
   "source": [
    "predictions = model_name.predict_classes(x_test_brand)"
   ]
  },
  {
   "cell_type": "code",
   "execution_count": null,
   "metadata": {},
   "outputs": [],
   "source": []
  },
  {
   "cell_type": "markdown",
   "metadata": {},
   "source": [
    "## Accuracy"
   ]
  },
  {
   "cell_type": "code",
   "execution_count": 2298,
   "metadata": {},
   "outputs": [
    {
     "data": {
      "text/plain": [
       "0.7923961980990495"
      ]
     },
     "execution_count": 2298,
     "metadata": {},
     "output_type": "execute_result"
    }
   ],
   "source": [
    "sum(label_test == predictions) / len(label_test)"
   ]
  },
  {
   "cell_type": "code",
   "execution_count": null,
   "metadata": {},
   "outputs": [],
   "source": []
  },
  {
   "cell_type": "code",
   "execution_count": null,
   "metadata": {},
   "outputs": [],
   "source": []
  },
  {
   "cell_type": "code",
   "execution_count": 2299,
   "metadata": {},
   "outputs": [],
   "source": [
    "submit = pd.DataFrame(data[data['Cat_code'] == -1]['Id'])"
   ]
  },
  {
   "cell_type": "code",
   "execution_count": 2300,
   "metadata": {},
   "outputs": [],
   "source": [
    "submit.reset_index(inplace = True, drop = True)"
   ]
  },
  {
   "cell_type": "code",
   "execution_count": 2301,
   "metadata": {},
   "outputs": [],
   "source": [
    "submit['Cat_code'] = pd.DataFrame(predictions)"
   ]
  },
  {
   "cell_type": "code",
   "execution_count": 2302,
   "metadata": {},
   "outputs": [
    {
     "data": {
      "text/html": [
       "<div>\n",
       "<style scoped>\n",
       "    .dataframe tbody tr th:only-of-type {\n",
       "        vertical-align: middle;\n",
       "    }\n",
       "\n",
       "    .dataframe tbody tr th {\n",
       "        vertical-align: top;\n",
       "    }\n",
       "\n",
       "    .dataframe thead th {\n",
       "        text-align: right;\n",
       "    }\n",
       "</style>\n",
       "<table border=\"1\" class=\"dataframe\">\n",
       "  <thead>\n",
       "    <tr style=\"text-align: right;\">\n",
       "      <th></th>\n",
       "      <th>Id</th>\n",
       "      <th>Cat_code</th>\n",
       "    </tr>\n",
       "  </thead>\n",
       "  <tbody>\n",
       "    <tr>\n",
       "      <th>0</th>\n",
       "      <td>8001</td>\n",
       "      <td>3</td>\n",
       "    </tr>\n",
       "    <tr>\n",
       "      <th>1</th>\n",
       "      <td>8002</td>\n",
       "      <td>2</td>\n",
       "    </tr>\n",
       "    <tr>\n",
       "      <th>2</th>\n",
       "      <td>8003</td>\n",
       "      <td>2</td>\n",
       "    </tr>\n",
       "    <tr>\n",
       "      <th>3</th>\n",
       "      <td>8004</td>\n",
       "      <td>1</td>\n",
       "    </tr>\n",
       "    <tr>\n",
       "      <th>4</th>\n",
       "      <td>8005</td>\n",
       "      <td>3</td>\n",
       "    </tr>\n",
       "    <tr>\n",
       "      <th>...</th>\n",
       "      <td>...</td>\n",
       "      <td>...</td>\n",
       "    </tr>\n",
       "    <tr>\n",
       "      <th>1994</th>\n",
       "      <td>9995</td>\n",
       "      <td>0</td>\n",
       "    </tr>\n",
       "    <tr>\n",
       "      <th>1995</th>\n",
       "      <td>9996</td>\n",
       "      <td>0</td>\n",
       "    </tr>\n",
       "    <tr>\n",
       "      <th>1996</th>\n",
       "      <td>9997</td>\n",
       "      <td>0</td>\n",
       "    </tr>\n",
       "    <tr>\n",
       "      <th>1997</th>\n",
       "      <td>9998</td>\n",
       "      <td>0</td>\n",
       "    </tr>\n",
       "    <tr>\n",
       "      <th>1998</th>\n",
       "      <td>9999</td>\n",
       "      <td>0</td>\n",
       "    </tr>\n",
       "  </tbody>\n",
       "</table>\n",
       "<p>1999 rows × 2 columns</p>\n",
       "</div>"
      ],
      "text/plain": [
       "        Id  Cat_code\n",
       "0     8001         3\n",
       "1     8002         2\n",
       "2     8003         2\n",
       "3     8004         1\n",
       "4     8005         3\n",
       "...    ...       ...\n",
       "1994  9995         0\n",
       "1995  9996         0\n",
       "1996  9997         0\n",
       "1997  9998         0\n",
       "1998  9999         0\n",
       "\n",
       "[1999 rows x 2 columns]"
      ]
     },
     "execution_count": 2302,
     "metadata": {},
     "output_type": "execute_result"
    }
   ],
   "source": [
    "submit"
   ]
  },
  {
   "cell_type": "code",
   "execution_count": 2303,
   "metadata": {},
   "outputs": [],
   "source": [
    "submit.to_csv('submit.csv', index = False)"
   ]
  },
  {
   "cell_type": "code",
   "execution_count": null,
   "metadata": {},
   "outputs": [],
   "source": []
  }
 ],
 "metadata": {
  "kernelspec": {
   "display_name": "Python 3",
   "language": "python",
   "name": "python3"
  },
  "language_info": {
   "codemirror_mode": {
    "name": "ipython",
    "version": 3
   },
   "file_extension": ".py",
   "mimetype": "text/x-python",
   "name": "python",
   "nbconvert_exporter": "python",
   "pygments_lexer": "ipython3",
   "version": "3.8.3"
  }
 },
 "nbformat": 4,
 "nbformat_minor": 4
}
